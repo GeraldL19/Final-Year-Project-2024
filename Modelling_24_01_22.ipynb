{
  "cells": [
    {
      "cell_type": "markdown",
      "metadata": {
        "id": "view-in-github",
        "colab_type": "text"
      },
      "source": [
        "<a href=\"https://colab.research.google.com/github/GeraldL19/Final-Year-Project-2024/blob/main/Modelling_24_01_22.ipynb\" target=\"_parent\"><img src=\"https://colab.research.google.com/assets/colab-badge.svg\" alt=\"Open In Colab\"/></a>"
      ]
    },
    {
      "cell_type": "markdown",
      "metadata": {
        "id": "oOe7V_R32fy4"
      },
      "source": [
        "# Import and Input"
      ]
    },
    {
      "cell_type": "code",
      "execution_count": 12,
      "metadata": {
        "id": "v7gHcqQVYG2h"
      },
      "outputs": [],
      "source": [
        "import pandas as pd\n",
        "import numpy as np\n",
        "\n",
        "from sklearn.model_selection import train_test_split, GridSearchCV, RandomizedSearchCV\n",
        "from sklearn.preprocessing import LabelEncoder, StandardScaler\n",
        "\n",
        "#Metrics\n",
        "from sklearn.metrics import accuracy_score, confusion_matrix, precision_score, recall_score, ConfusionMatrixDisplay, classification_report, f1_score , fbeta_score, precision_score\n",
        "\n",
        "# Models\n",
        "from sklearn.linear_model import LogisticRegression\n",
        "from sklearn.ensemble import RandomForestClassifier, GradientBoostingClassifier\n",
        "from sklearn.tree import DecisionTreeClassifier\n",
        "from sklearn.neighbors import KNeighborsClassifier\n",
        "from sklearn.naive_bayes import GaussianNB\n",
        "from sklearn.svm import SVC\n",
        "from xgboost import XGBClassifier\n",
        "from lightgbm import LGBMClassifier\n",
        "\n",
        "#Imbalance\n",
        "from imblearn.combine import *\n",
        "from imblearn.over_sampling import SMOTE\n",
        "from imblearn.under_sampling import RandomUnderSampler\n",
        "from imblearn.ensemble import RUSBoostClassifier\n",
        "from imblearn.combine import SMOTEENN\n",
        "from imblearn.over_sampling import ADASYN\n",
        "from imblearn.under_sampling import NeighbourhoodCleaningRule"
      ]
    },
    {
      "cell_type": "code",
      "execution_count": 13,
      "metadata": {
        "colab": {
          "base_uri": "https://localhost:8080/",
          "height": 0
        },
        "id": "XwUUrev2Xblj",
        "outputId": "9f91ee67-45d2-4564-b01c-70e13c6f5694"
      },
      "outputs": [
        {
          "output_type": "execute_result",
          "data": {
            "text/plain": [
              "       person_age  person_income person_home_ownership  person_emp_length  \\\n",
              "0              22          59000                  RENT              123.0   \n",
              "1              21           9600                   OWN                5.0   \n",
              "2              25           9600              MORTGAGE                1.0   \n",
              "3              23          65500                  RENT                4.0   \n",
              "4              24          54400                  RENT                8.0   \n",
              "...           ...            ...                   ...                ...   \n",
              "32576          57          53000              MORTGAGE                1.0   \n",
              "32577          54         120000              MORTGAGE                4.0   \n",
              "32578          65          76000                  RENT                3.0   \n",
              "32579          56         150000              MORTGAGE                5.0   \n",
              "32580          66          42000                  RENT                2.0   \n",
              "\n",
              "           loan_intent loan_grade  loan_amnt  loan_int_rate  loan_status  \\\n",
              "0             PERSONAL          D      35000          16.02            1   \n",
              "1            EDUCATION          B       1000          11.14            0   \n",
              "2              MEDICAL          C       5500          12.87            1   \n",
              "3              MEDICAL          C      35000          15.23            1   \n",
              "4              MEDICAL          C      35000          14.27            1   \n",
              "...                ...        ...        ...            ...          ...   \n",
              "32576         PERSONAL          C       5800          13.16            0   \n",
              "32577         PERSONAL          A      17625           7.49            0   \n",
              "32578  HOMEIMPROVEMENT          B      35000          10.99            1   \n",
              "32579         PERSONAL          B      15000          11.48            0   \n",
              "32580          MEDICAL          B       6475           9.99            0   \n",
              "\n",
              "       loan_percent_income cb_person_default_on_file  \\\n",
              "0                     0.59                         Y   \n",
              "1                     0.10                         N   \n",
              "2                     0.57                         N   \n",
              "3                     0.53                         N   \n",
              "4                     0.55                         Y   \n",
              "...                    ...                       ...   \n",
              "32576                 0.11                         N   \n",
              "32577                 0.15                         N   \n",
              "32578                 0.46                         N   \n",
              "32579                 0.10                         N   \n",
              "32580                 0.15                         N   \n",
              "\n",
              "       cb_person_cred_hist_length  \n",
              "0                               3  \n",
              "1                               2  \n",
              "2                               3  \n",
              "3                               2  \n",
              "4                               4  \n",
              "...                           ...  \n",
              "32576                          30  \n",
              "32577                          19  \n",
              "32578                          28  \n",
              "32579                          26  \n",
              "32580                          30  \n",
              "\n",
              "[32581 rows x 12 columns]"
            ],
            "text/html": [
              "\n",
              "  <div id=\"df-3aa5dcff-4fb7-4377-bdb3-4cf9c753fbfa\" class=\"colab-df-container\">\n",
              "    <div>\n",
              "<style scoped>\n",
              "    .dataframe tbody tr th:only-of-type {\n",
              "        vertical-align: middle;\n",
              "    }\n",
              "\n",
              "    .dataframe tbody tr th {\n",
              "        vertical-align: top;\n",
              "    }\n",
              "\n",
              "    .dataframe thead th {\n",
              "        text-align: right;\n",
              "    }\n",
              "</style>\n",
              "<table border=\"1\" class=\"dataframe\">\n",
              "  <thead>\n",
              "    <tr style=\"text-align: right;\">\n",
              "      <th></th>\n",
              "      <th>person_age</th>\n",
              "      <th>person_income</th>\n",
              "      <th>person_home_ownership</th>\n",
              "      <th>person_emp_length</th>\n",
              "      <th>loan_intent</th>\n",
              "      <th>loan_grade</th>\n",
              "      <th>loan_amnt</th>\n",
              "      <th>loan_int_rate</th>\n",
              "      <th>loan_status</th>\n",
              "      <th>loan_percent_income</th>\n",
              "      <th>cb_person_default_on_file</th>\n",
              "      <th>cb_person_cred_hist_length</th>\n",
              "    </tr>\n",
              "  </thead>\n",
              "  <tbody>\n",
              "    <tr>\n",
              "      <th>0</th>\n",
              "      <td>22</td>\n",
              "      <td>59000</td>\n",
              "      <td>RENT</td>\n",
              "      <td>123.0</td>\n",
              "      <td>PERSONAL</td>\n",
              "      <td>D</td>\n",
              "      <td>35000</td>\n",
              "      <td>16.02</td>\n",
              "      <td>1</td>\n",
              "      <td>0.59</td>\n",
              "      <td>Y</td>\n",
              "      <td>3</td>\n",
              "    </tr>\n",
              "    <tr>\n",
              "      <th>1</th>\n",
              "      <td>21</td>\n",
              "      <td>9600</td>\n",
              "      <td>OWN</td>\n",
              "      <td>5.0</td>\n",
              "      <td>EDUCATION</td>\n",
              "      <td>B</td>\n",
              "      <td>1000</td>\n",
              "      <td>11.14</td>\n",
              "      <td>0</td>\n",
              "      <td>0.10</td>\n",
              "      <td>N</td>\n",
              "      <td>2</td>\n",
              "    </tr>\n",
              "    <tr>\n",
              "      <th>2</th>\n",
              "      <td>25</td>\n",
              "      <td>9600</td>\n",
              "      <td>MORTGAGE</td>\n",
              "      <td>1.0</td>\n",
              "      <td>MEDICAL</td>\n",
              "      <td>C</td>\n",
              "      <td>5500</td>\n",
              "      <td>12.87</td>\n",
              "      <td>1</td>\n",
              "      <td>0.57</td>\n",
              "      <td>N</td>\n",
              "      <td>3</td>\n",
              "    </tr>\n",
              "    <tr>\n",
              "      <th>3</th>\n",
              "      <td>23</td>\n",
              "      <td>65500</td>\n",
              "      <td>RENT</td>\n",
              "      <td>4.0</td>\n",
              "      <td>MEDICAL</td>\n",
              "      <td>C</td>\n",
              "      <td>35000</td>\n",
              "      <td>15.23</td>\n",
              "      <td>1</td>\n",
              "      <td>0.53</td>\n",
              "      <td>N</td>\n",
              "      <td>2</td>\n",
              "    </tr>\n",
              "    <tr>\n",
              "      <th>4</th>\n",
              "      <td>24</td>\n",
              "      <td>54400</td>\n",
              "      <td>RENT</td>\n",
              "      <td>8.0</td>\n",
              "      <td>MEDICAL</td>\n",
              "      <td>C</td>\n",
              "      <td>35000</td>\n",
              "      <td>14.27</td>\n",
              "      <td>1</td>\n",
              "      <td>0.55</td>\n",
              "      <td>Y</td>\n",
              "      <td>4</td>\n",
              "    </tr>\n",
              "    <tr>\n",
              "      <th>...</th>\n",
              "      <td>...</td>\n",
              "      <td>...</td>\n",
              "      <td>...</td>\n",
              "      <td>...</td>\n",
              "      <td>...</td>\n",
              "      <td>...</td>\n",
              "      <td>...</td>\n",
              "      <td>...</td>\n",
              "      <td>...</td>\n",
              "      <td>...</td>\n",
              "      <td>...</td>\n",
              "      <td>...</td>\n",
              "    </tr>\n",
              "    <tr>\n",
              "      <th>32576</th>\n",
              "      <td>57</td>\n",
              "      <td>53000</td>\n",
              "      <td>MORTGAGE</td>\n",
              "      <td>1.0</td>\n",
              "      <td>PERSONAL</td>\n",
              "      <td>C</td>\n",
              "      <td>5800</td>\n",
              "      <td>13.16</td>\n",
              "      <td>0</td>\n",
              "      <td>0.11</td>\n",
              "      <td>N</td>\n",
              "      <td>30</td>\n",
              "    </tr>\n",
              "    <tr>\n",
              "      <th>32577</th>\n",
              "      <td>54</td>\n",
              "      <td>120000</td>\n",
              "      <td>MORTGAGE</td>\n",
              "      <td>4.0</td>\n",
              "      <td>PERSONAL</td>\n",
              "      <td>A</td>\n",
              "      <td>17625</td>\n",
              "      <td>7.49</td>\n",
              "      <td>0</td>\n",
              "      <td>0.15</td>\n",
              "      <td>N</td>\n",
              "      <td>19</td>\n",
              "    </tr>\n",
              "    <tr>\n",
              "      <th>32578</th>\n",
              "      <td>65</td>\n",
              "      <td>76000</td>\n",
              "      <td>RENT</td>\n",
              "      <td>3.0</td>\n",
              "      <td>HOMEIMPROVEMENT</td>\n",
              "      <td>B</td>\n",
              "      <td>35000</td>\n",
              "      <td>10.99</td>\n",
              "      <td>1</td>\n",
              "      <td>0.46</td>\n",
              "      <td>N</td>\n",
              "      <td>28</td>\n",
              "    </tr>\n",
              "    <tr>\n",
              "      <th>32579</th>\n",
              "      <td>56</td>\n",
              "      <td>150000</td>\n",
              "      <td>MORTGAGE</td>\n",
              "      <td>5.0</td>\n",
              "      <td>PERSONAL</td>\n",
              "      <td>B</td>\n",
              "      <td>15000</td>\n",
              "      <td>11.48</td>\n",
              "      <td>0</td>\n",
              "      <td>0.10</td>\n",
              "      <td>N</td>\n",
              "      <td>26</td>\n",
              "    </tr>\n",
              "    <tr>\n",
              "      <th>32580</th>\n",
              "      <td>66</td>\n",
              "      <td>42000</td>\n",
              "      <td>RENT</td>\n",
              "      <td>2.0</td>\n",
              "      <td>MEDICAL</td>\n",
              "      <td>B</td>\n",
              "      <td>6475</td>\n",
              "      <td>9.99</td>\n",
              "      <td>0</td>\n",
              "      <td>0.15</td>\n",
              "      <td>N</td>\n",
              "      <td>30</td>\n",
              "    </tr>\n",
              "  </tbody>\n",
              "</table>\n",
              "<p>32581 rows × 12 columns</p>\n",
              "</div>\n",
              "    <div class=\"colab-df-buttons\">\n",
              "\n",
              "  <div class=\"colab-df-container\">\n",
              "    <button class=\"colab-df-convert\" onclick=\"convertToInteractive('df-3aa5dcff-4fb7-4377-bdb3-4cf9c753fbfa')\"\n",
              "            title=\"Convert this dataframe to an interactive table.\"\n",
              "            style=\"display:none;\">\n",
              "\n",
              "  <svg xmlns=\"http://www.w3.org/2000/svg\" height=\"24px\" viewBox=\"0 -960 960 960\">\n",
              "    <path d=\"M120-120v-720h720v720H120Zm60-500h600v-160H180v160Zm220 220h160v-160H400v160Zm0 220h160v-160H400v160ZM180-400h160v-160H180v160Zm440 0h160v-160H620v160ZM180-180h160v-160H180v160Zm440 0h160v-160H620v160Z\"/>\n",
              "  </svg>\n",
              "    </button>\n",
              "\n",
              "  <style>\n",
              "    .colab-df-container {\n",
              "      display:flex;\n",
              "      gap: 12px;\n",
              "    }\n",
              "\n",
              "    .colab-df-convert {\n",
              "      background-color: #E8F0FE;\n",
              "      border: none;\n",
              "      border-radius: 50%;\n",
              "      cursor: pointer;\n",
              "      display: none;\n",
              "      fill: #1967D2;\n",
              "      height: 32px;\n",
              "      padding: 0 0 0 0;\n",
              "      width: 32px;\n",
              "    }\n",
              "\n",
              "    .colab-df-convert:hover {\n",
              "      background-color: #E2EBFA;\n",
              "      box-shadow: 0px 1px 2px rgba(60, 64, 67, 0.3), 0px 1px 3px 1px rgba(60, 64, 67, 0.15);\n",
              "      fill: #174EA6;\n",
              "    }\n",
              "\n",
              "    .colab-df-buttons div {\n",
              "      margin-bottom: 4px;\n",
              "    }\n",
              "\n",
              "    [theme=dark] .colab-df-convert {\n",
              "      background-color: #3B4455;\n",
              "      fill: #D2E3FC;\n",
              "    }\n",
              "\n",
              "    [theme=dark] .colab-df-convert:hover {\n",
              "      background-color: #434B5C;\n",
              "      box-shadow: 0px 1px 3px 1px rgba(0, 0, 0, 0.15);\n",
              "      filter: drop-shadow(0px 1px 2px rgba(0, 0, 0, 0.3));\n",
              "      fill: #FFFFFF;\n",
              "    }\n",
              "  </style>\n",
              "\n",
              "    <script>\n",
              "      const buttonEl =\n",
              "        document.querySelector('#df-3aa5dcff-4fb7-4377-bdb3-4cf9c753fbfa button.colab-df-convert');\n",
              "      buttonEl.style.display =\n",
              "        google.colab.kernel.accessAllowed ? 'block' : 'none';\n",
              "\n",
              "      async function convertToInteractive(key) {\n",
              "        const element = document.querySelector('#df-3aa5dcff-4fb7-4377-bdb3-4cf9c753fbfa');\n",
              "        const dataTable =\n",
              "          await google.colab.kernel.invokeFunction('convertToInteractive',\n",
              "                                                    [key], {});\n",
              "        if (!dataTable) return;\n",
              "\n",
              "        const docLinkHtml = 'Like what you see? Visit the ' +\n",
              "          '<a target=\"_blank\" href=https://colab.research.google.com/notebooks/data_table.ipynb>data table notebook</a>'\n",
              "          + ' to learn more about interactive tables.';\n",
              "        element.innerHTML = '';\n",
              "        dataTable['output_type'] = 'display_data';\n",
              "        await google.colab.output.renderOutput(dataTable, element);\n",
              "        const docLink = document.createElement('div');\n",
              "        docLink.innerHTML = docLinkHtml;\n",
              "        element.appendChild(docLink);\n",
              "      }\n",
              "    </script>\n",
              "  </div>\n",
              "\n",
              "\n",
              "<div id=\"df-0003c367-7a33-4804-844d-d6e96da716a0\">\n",
              "  <button class=\"colab-df-quickchart\" onclick=\"quickchart('df-0003c367-7a33-4804-844d-d6e96da716a0')\"\n",
              "            title=\"Suggest charts\"\n",
              "            style=\"display:none;\">\n",
              "\n",
              "<svg xmlns=\"http://www.w3.org/2000/svg\" height=\"24px\"viewBox=\"0 0 24 24\"\n",
              "     width=\"24px\">\n",
              "    <g>\n",
              "        <path d=\"M19 3H5c-1.1 0-2 .9-2 2v14c0 1.1.9 2 2 2h14c1.1 0 2-.9 2-2V5c0-1.1-.9-2-2-2zM9 17H7v-7h2v7zm4 0h-2V7h2v10zm4 0h-2v-4h2v4z\"/>\n",
              "    </g>\n",
              "</svg>\n",
              "  </button>\n",
              "\n",
              "<style>\n",
              "  .colab-df-quickchart {\n",
              "      --bg-color: #E8F0FE;\n",
              "      --fill-color: #1967D2;\n",
              "      --hover-bg-color: #E2EBFA;\n",
              "      --hover-fill-color: #174EA6;\n",
              "      --disabled-fill-color: #AAA;\n",
              "      --disabled-bg-color: #DDD;\n",
              "  }\n",
              "\n",
              "  [theme=dark] .colab-df-quickchart {\n",
              "      --bg-color: #3B4455;\n",
              "      --fill-color: #D2E3FC;\n",
              "      --hover-bg-color: #434B5C;\n",
              "      --hover-fill-color: #FFFFFF;\n",
              "      --disabled-bg-color: #3B4455;\n",
              "      --disabled-fill-color: #666;\n",
              "  }\n",
              "\n",
              "  .colab-df-quickchart {\n",
              "    background-color: var(--bg-color);\n",
              "    border: none;\n",
              "    border-radius: 50%;\n",
              "    cursor: pointer;\n",
              "    display: none;\n",
              "    fill: var(--fill-color);\n",
              "    height: 32px;\n",
              "    padding: 0;\n",
              "    width: 32px;\n",
              "  }\n",
              "\n",
              "  .colab-df-quickchart:hover {\n",
              "    background-color: var(--hover-bg-color);\n",
              "    box-shadow: 0 1px 2px rgba(60, 64, 67, 0.3), 0 1px 3px 1px rgba(60, 64, 67, 0.15);\n",
              "    fill: var(--button-hover-fill-color);\n",
              "  }\n",
              "\n",
              "  .colab-df-quickchart-complete:disabled,\n",
              "  .colab-df-quickchart-complete:disabled:hover {\n",
              "    background-color: var(--disabled-bg-color);\n",
              "    fill: var(--disabled-fill-color);\n",
              "    box-shadow: none;\n",
              "  }\n",
              "\n",
              "  .colab-df-spinner {\n",
              "    border: 2px solid var(--fill-color);\n",
              "    border-color: transparent;\n",
              "    border-bottom-color: var(--fill-color);\n",
              "    animation:\n",
              "      spin 1s steps(1) infinite;\n",
              "  }\n",
              "\n",
              "  @keyframes spin {\n",
              "    0% {\n",
              "      border-color: transparent;\n",
              "      border-bottom-color: var(--fill-color);\n",
              "      border-left-color: var(--fill-color);\n",
              "    }\n",
              "    20% {\n",
              "      border-color: transparent;\n",
              "      border-left-color: var(--fill-color);\n",
              "      border-top-color: var(--fill-color);\n",
              "    }\n",
              "    30% {\n",
              "      border-color: transparent;\n",
              "      border-left-color: var(--fill-color);\n",
              "      border-top-color: var(--fill-color);\n",
              "      border-right-color: var(--fill-color);\n",
              "    }\n",
              "    40% {\n",
              "      border-color: transparent;\n",
              "      border-right-color: var(--fill-color);\n",
              "      border-top-color: var(--fill-color);\n",
              "    }\n",
              "    60% {\n",
              "      border-color: transparent;\n",
              "      border-right-color: var(--fill-color);\n",
              "    }\n",
              "    80% {\n",
              "      border-color: transparent;\n",
              "      border-right-color: var(--fill-color);\n",
              "      border-bottom-color: var(--fill-color);\n",
              "    }\n",
              "    90% {\n",
              "      border-color: transparent;\n",
              "      border-bottom-color: var(--fill-color);\n",
              "    }\n",
              "  }\n",
              "</style>\n",
              "\n",
              "  <script>\n",
              "    async function quickchart(key) {\n",
              "      const quickchartButtonEl =\n",
              "        document.querySelector('#' + key + ' button');\n",
              "      quickchartButtonEl.disabled = true;  // To prevent multiple clicks.\n",
              "      quickchartButtonEl.classList.add('colab-df-spinner');\n",
              "      try {\n",
              "        const charts = await google.colab.kernel.invokeFunction(\n",
              "            'suggestCharts', [key], {});\n",
              "      } catch (error) {\n",
              "        console.error('Error during call to suggestCharts:', error);\n",
              "      }\n",
              "      quickchartButtonEl.classList.remove('colab-df-spinner');\n",
              "      quickchartButtonEl.classList.add('colab-df-quickchart-complete');\n",
              "    }\n",
              "    (() => {\n",
              "      let quickchartButtonEl =\n",
              "        document.querySelector('#df-0003c367-7a33-4804-844d-d6e96da716a0 button');\n",
              "      quickchartButtonEl.style.display =\n",
              "        google.colab.kernel.accessAllowed ? 'block' : 'none';\n",
              "    })();\n",
              "  </script>\n",
              "</div>\n",
              "    </div>\n",
              "  </div>\n"
            ]
          },
          "metadata": {},
          "execution_count": 13
        }
      ],
      "source": [
        "#Import clean dataset from GoogleDrive\n",
        "df = pd.read_csv(\"/content/drive/MyDrive/Colab Notebooks/credit_risk_dataset.csv\")\n",
        "df"
      ]
    },
    {
      "cell_type": "markdown",
      "source": [
        "# **Preprocessing**"
      ],
      "metadata": {
        "id": "mKgiaz2WmcJI"
      }
    },
    {
      "cell_type": "code",
      "execution_count": 14,
      "metadata": {
        "id": "M877A8BiXpI-"
      },
      "outputs": [],
      "source": [
        "#Encode categorical values into nnumerical values\n",
        "df = df.replace({'RENT': 0, 'OWN': 1, 'MORTGAGE': 2, 'OTHER': 3})\n",
        "df = df.replace({'PERSONAL': 0, 'EDUCATION': 1, 'MEDICAL': 2, 'VENTURE': 3, 'HOMEIMPROVEMENT': 4, 'DEBTCONSOLIDATION': 5})\n",
        "df = df.replace({'A': 0, 'B': 1, 'C': 2, 'D': 3, 'E': 4, 'F': 5, 'G': 6})\n",
        "df = df.replace({'Y': 0, 'N': 1})"
      ]
    },
    {
      "cell_type": "code",
      "execution_count": 9,
      "metadata": {
        "id": "gxKCngV2YG60"
      },
      "outputs": [],
      "source": [
        "# List of numerical column\n",
        "cols_to_norm = ['person_age','person_income','person_emp_length','loan_amnt','loan_percent_income','cb_person_cred_hist_length']\n",
        "# Scaling numerical variables\n",
        "df[cols_to_norm] = StandardScaler().fit_transform(df[cols_to_norm])"
      ]
    },
    {
      "cell_type": "code",
      "execution_count": 10,
      "metadata": {
        "id": "cbv5s-n49yJa"
      },
      "outputs": [],
      "source": [
        "#Split the datset X independent variables and y dependent variable (target)\n",
        "X = df.drop('loan_status', axis=1)\n",
        "y = df['loan_status']"
      ]
    },
    {
      "cell_type": "code",
      "source": [
        "from sklearn.ensemble import ExtraTreesClassifier"
      ],
      "metadata": {
        "id": "VfNmA5UWmwP3"
      },
      "execution_count": 11,
      "outputs": []
    },
    {
      "cell_type": "markdown",
      "metadata": {
        "id": "GlqGZ1k_P0tT"
      },
      "source": [
        "# **Spot Checking Algorithms**"
      ]
    },
    {
      "cell_type": "code",
      "execution_count": 15,
      "metadata": {
        "colab": {
          "base_uri": "https://localhost:8080/",
          "height": 974
        },
        "id": "cDwe6XWRPW1_",
        "outputId": "c1c25f37-d5d9-4699-8862-5430e057f671"
      },
      "outputs": [
        {
          "output_type": "stream",
          "name": "stdout",
          "text": [
            "Training and evaluating Logistic Regression...\n",
            "Training and evaluating Naive Bayes...\n",
            "Training and evaluating Decision Tree...\n"
          ]
        },
        {
          "output_type": "stream",
          "name": "stderr",
          "text": [
            "<ipython-input-15-6a1f6d23094e>:37: FutureWarning: The frame.append method is deprecated and will be removed from pandas in a future version. Use pandas.concat instead.\n",
            "  results_df = results_df.append({'Model': model_name, 'Precision': precision, 'Recall': recall, 'F1 Score': f1, 'F2 Score': f2}, ignore_index=True)\n",
            "<ipython-input-15-6a1f6d23094e>:37: FutureWarning: The frame.append method is deprecated and will be removed from pandas in a future version. Use pandas.concat instead.\n",
            "  results_df = results_df.append({'Model': model_name, 'Precision': precision, 'Recall': recall, 'F1 Score': f1, 'F2 Score': f2}, ignore_index=True)\n",
            "<ipython-input-15-6a1f6d23094e>:37: FutureWarning: The frame.append method is deprecated and will be removed from pandas in a future version. Use pandas.concat instead.\n",
            "  results_df = results_df.append({'Model': model_name, 'Precision': precision, 'Recall': recall, 'F1 Score': f1, 'F2 Score': f2}, ignore_index=True)\n"
          ]
        },
        {
          "output_type": "stream",
          "name": "stdout",
          "text": [
            "Training and evaluating Random Forest...\n"
          ]
        },
        {
          "output_type": "stream",
          "name": "stderr",
          "text": [
            "<ipython-input-15-6a1f6d23094e>:37: FutureWarning: The frame.append method is deprecated and will be removed from pandas in a future version. Use pandas.concat instead.\n",
            "  results_df = results_df.append({'Model': model_name, 'Precision': precision, 'Recall': recall, 'F1 Score': f1, 'F2 Score': f2}, ignore_index=True)\n"
          ]
        },
        {
          "output_type": "stream",
          "name": "stdout",
          "text": [
            "Training and evaluating Extra Tree...\n"
          ]
        },
        {
          "output_type": "stream",
          "name": "stderr",
          "text": [
            "<ipython-input-15-6a1f6d23094e>:37: FutureWarning: The frame.append method is deprecated and will be removed from pandas in a future version. Use pandas.concat instead.\n",
            "  results_df = results_df.append({'Model': model_name, 'Precision': precision, 'Recall': recall, 'F1 Score': f1, 'F2 Score': f2}, ignore_index=True)\n"
          ]
        },
        {
          "output_type": "stream",
          "name": "stdout",
          "text": [
            "Training and evaluating SVM...\n"
          ]
        },
        {
          "output_type": "stream",
          "name": "stderr",
          "text": [
            "<ipython-input-15-6a1f6d23094e>:37: FutureWarning: The frame.append method is deprecated and will be removed from pandas in a future version. Use pandas.concat instead.\n",
            "  results_df = results_df.append({'Model': model_name, 'Precision': precision, 'Recall': recall, 'F1 Score': f1, 'F2 Score': f2}, ignore_index=True)\n"
          ]
        },
        {
          "output_type": "stream",
          "name": "stdout",
          "text": [
            "Training and evaluating XGBoost...\n"
          ]
        },
        {
          "output_type": "stream",
          "name": "stderr",
          "text": [
            "<ipython-input-15-6a1f6d23094e>:37: FutureWarning: The frame.append method is deprecated and will be removed from pandas in a future version. Use pandas.concat instead.\n",
            "  results_df = results_df.append({'Model': model_name, 'Precision': precision, 'Recall': recall, 'F1 Score': f1, 'F2 Score': f2}, ignore_index=True)\n"
          ]
        },
        {
          "output_type": "stream",
          "name": "stdout",
          "text": [
            "Training and evaluating Gradient Boosting...\n"
          ]
        },
        {
          "output_type": "stream",
          "name": "stderr",
          "text": [
            "<ipython-input-15-6a1f6d23094e>:37: FutureWarning: The frame.append method is deprecated and will be removed from pandas in a future version. Use pandas.concat instead.\n",
            "  results_df = results_df.append({'Model': model_name, 'Precision': precision, 'Recall': recall, 'F1 Score': f1, 'F2 Score': f2}, ignore_index=True)\n"
          ]
        },
        {
          "output_type": "stream",
          "name": "stdout",
          "text": [
            "Training and evaluating LightGBM...\n",
            "[LightGBM] [Info] Number of positive: 4816, number of negative: 17241\n",
            "[LightGBM] [Info] Auto-choosing row-wise multi-threading, the overhead of testing was 0.001635 seconds.\n",
            "You can set `force_row_wise=true` to remove the overhead.\n",
            "And if memory is not enough, you can set `force_col_wise=true`.\n",
            "[LightGBM] [Info] Total Bins 703\n",
            "[LightGBM] [Info] Number of data points in the train set: 22057, number of used features: 10\n",
            "[LightGBM] [Info] [binary:BoostFromScore]: pavg=0.218343 -> initscore=-1.275347\n",
            "[LightGBM] [Info] Start training from score -1.275347\n"
          ]
        },
        {
          "output_type": "stream",
          "name": "stderr",
          "text": [
            "<ipython-input-15-6a1f6d23094e>:37: FutureWarning: The frame.append method is deprecated and will be removed from pandas in a future version. Use pandas.concat instead.\n",
            "  results_df = results_df.append({'Model': model_name, 'Precision': precision, 'Recall': recall, 'F1 Score': f1, 'F2 Score': f2}, ignore_index=True)\n"
          ]
        },
        {
          "output_type": "stream",
          "name": "stdout",
          "text": [
            "\n",
            "Results:\n"
          ]
        },
        {
          "output_type": "execute_result",
          "data": {
            "text/plain": [
              "<pandas.io.formats.style.Styler at 0x7f50d2420b50>"
            ],
            "text/html": [
              "<style type=\"text/css\">\n",
              "#T_37d67_row2_col2, #T_37d67_row6_col4, #T_37d67_row8_col1, #T_37d67_row8_col3 {\n",
              "  background-color: yellow;\n",
              "}\n",
              "</style>\n",
              "<table id=\"T_37d67\" class=\"dataframe\">\n",
              "  <thead>\n",
              "    <tr>\n",
              "      <th class=\"blank level0\" >&nbsp;</th>\n",
              "      <th id=\"T_37d67_level0_col0\" class=\"col_heading level0 col0\" >Model</th>\n",
              "      <th id=\"T_37d67_level0_col1\" class=\"col_heading level0 col1\" >Precision</th>\n",
              "      <th id=\"T_37d67_level0_col2\" class=\"col_heading level0 col2\" >Recall</th>\n",
              "      <th id=\"T_37d67_level0_col3\" class=\"col_heading level0 col3\" >F1 Score</th>\n",
              "      <th id=\"T_37d67_level0_col4\" class=\"col_heading level0 col4\" >F2 Score</th>\n",
              "    </tr>\n",
              "  </thead>\n",
              "  <tbody>\n",
              "    <tr>\n",
              "      <th id=\"T_37d67_level0_row0\" class=\"row_heading level0 row0\" >0</th>\n",
              "      <td id=\"T_37d67_row0_col0\" class=\"data row0 col0\" >Logistic Regression</td>\n",
              "      <td id=\"T_37d67_row0_col1\" class=\"data row0 col1\" >0.726923</td>\n",
              "      <td id=\"T_37d67_row0_col2\" class=\"data row0 col2\" >0.474874</td>\n",
              "      <td id=\"T_37d67_row0_col3\" class=\"data row0 col3\" >0.574468</td>\n",
              "      <td id=\"T_37d67_row0_col4\" class=\"data row0 col4\" >0.510259</td>\n",
              "    </tr>\n",
              "    <tr>\n",
              "      <th id=\"T_37d67_level0_row1\" class=\"row_heading level0 row1\" >1</th>\n",
              "      <td id=\"T_37d67_row1_col0\" class=\"data row1 col0\" >Naive Bayes</td>\n",
              "      <td id=\"T_37d67_row1_col1\" class=\"data row1 col1\" >0.559083</td>\n",
              "      <td id=\"T_37d67_row1_col2\" class=\"data row1 col2\" >0.637186</td>\n",
              "      <td id=\"T_37d67_row1_col3\" class=\"data row1 col3\" >0.595585</td>\n",
              "      <td id=\"T_37d67_row1_col4\" class=\"data row1 col4\" >0.619867</td>\n",
              "    </tr>\n",
              "    <tr>\n",
              "      <th id=\"T_37d67_level0_row2\" class=\"row_heading level0 row2\" >2</th>\n",
              "      <td id=\"T_37d67_row2_col0\" class=\"data row2 col0\" >Decision Tree</td>\n",
              "      <td id=\"T_37d67_row2_col1\" class=\"data row2 col1\" >0.730414</td>\n",
              "      <td id=\"T_37d67_row2_col2\" class=\"data row2 col2\" >0.754271</td>\n",
              "      <td id=\"T_37d67_row2_col3\" class=\"data row2 col3\" >0.742151</td>\n",
              "      <td id=\"T_37d67_row2_col4\" class=\"data row2 col4\" >0.749376</td>\n",
              "    </tr>\n",
              "    <tr>\n",
              "      <th id=\"T_37d67_level0_row3\" class=\"row_heading level0 row3\" >3</th>\n",
              "      <td id=\"T_37d67_row3_col0\" class=\"data row3 col0\" >Random Forest</td>\n",
              "      <td id=\"T_37d67_row3_col1\" class=\"data row3 col1\" >0.968493</td>\n",
              "      <td id=\"T_37d67_row3_col2\" class=\"data row3 col2\" >0.710553</td>\n",
              "      <td id=\"T_37d67_row3_col3\" class=\"data row3 col3\" >0.819710</td>\n",
              "      <td id=\"T_37d67_row3_col4\" class=\"data row3 col4\" >0.750531</td>\n",
              "    </tr>\n",
              "    <tr>\n",
              "      <th id=\"T_37d67_level0_row4\" class=\"row_heading level0 row4\" >4</th>\n",
              "      <td id=\"T_37d67_row4_col0\" class=\"data row4 col0\" >Extra Tree</td>\n",
              "      <td id=\"T_37d67_row4_col1\" class=\"data row4 col1\" >0.911824</td>\n",
              "      <td id=\"T_37d67_row4_col2\" class=\"data row4 col2\" >0.685930</td>\n",
              "      <td id=\"T_37d67_row4_col3\" class=\"data row4 col3\" >0.782908</td>\n",
              "      <td id=\"T_37d67_row4_col4\" class=\"data row4 col4\" >0.721688</td>\n",
              "    </tr>\n",
              "    <tr>\n",
              "      <th id=\"T_37d67_level0_row5\" class=\"row_heading level0 row5\" >5</th>\n",
              "      <td id=\"T_37d67_row5_col0\" class=\"data row5 col0\" >SVM</td>\n",
              "      <td id=\"T_37d67_row5_col1\" class=\"data row5 col1\" >0.866118</td>\n",
              "      <td id=\"T_37d67_row5_col2\" class=\"data row5 col2\" >0.581910</td>\n",
              "      <td id=\"T_37d67_row5_col3\" class=\"data row5 col3\" >0.696123</td>\n",
              "      <td id=\"T_37d67_row5_col4\" class=\"data row5 col4\" >0.622782</td>\n",
              "    </tr>\n",
              "    <tr>\n",
              "      <th id=\"T_37d67_level0_row6\" class=\"row_heading level0 row6\" >6</th>\n",
              "      <td id=\"T_37d67_row6_col0\" class=\"data row6 col0\" >XGBoost</td>\n",
              "      <td id=\"T_37d67_row6_col1\" class=\"data row6 col1\" >0.946452</td>\n",
              "      <td id=\"T_37d67_row6_col2\" class=\"data row6 col2\" >0.737186</td>\n",
              "      <td id=\"T_37d67_row6_col3\" class=\"data row6 col3\" >0.828814</td>\n",
              "      <td id=\"T_37d67_row6_col4\" class=\"data row6 col4\" >0.771293</td>\n",
              "    </tr>\n",
              "    <tr>\n",
              "      <th id=\"T_37d67_level0_row7\" class=\"row_heading level0 row7\" >7</th>\n",
              "      <td id=\"T_37d67_row7_col0\" class=\"data row7 col0\" >Gradient Boosting</td>\n",
              "      <td id=\"T_37d67_row7_col1\" class=\"data row7 col1\" >0.945615</td>\n",
              "      <td id=\"T_37d67_row7_col2\" class=\"data row7 col2\" >0.698995</td>\n",
              "      <td id=\"T_37d67_row7_col3\" class=\"data row7 col3\" >0.803814</td>\n",
              "      <td id=\"T_37d67_row7_col4\" class=\"data row7 col4\" >0.737462</td>\n",
              "    </tr>\n",
              "    <tr>\n",
              "      <th id=\"T_37d67_level0_row8\" class=\"row_heading level0 row8\" >8</th>\n",
              "      <td id=\"T_37d67_row8_col0\" class=\"data row8 col0\" >LightGBM</td>\n",
              "      <td id=\"T_37d67_row8_col1\" class=\"data row8 col1\" >0.981469</td>\n",
              "      <td id=\"T_37d67_row8_col2\" class=\"data row8 col2\" >0.718593</td>\n",
              "      <td id=\"T_37d67_row8_col3\" class=\"data row8 col3\" >0.829707</td>\n",
              "      <td id=\"T_37d67_row8_col4\" class=\"data row8 col4\" >0.759265</td>\n",
              "    </tr>\n",
              "  </tbody>\n",
              "</table>\n"
            ]
          },
          "metadata": {},
          "execution_count": 15
        }
      ],
      "source": [
        "# Split the data into training and testing sets (70/30)\n",
        "X_train, X_test, y_train, y_test = train_test_split(X, y, test_size=0.3, random_state=42)\n",
        "\n",
        "# List of models to try\n",
        "models = {\n",
        "    'Logistic Regression' : LogisticRegression(),\n",
        "    'Naive Bayes' : GaussianNB(),\n",
        "    'Decision Tree': DecisionTreeClassifier(),\n",
        "    'Random Forest': RandomForestClassifier(),\n",
        "    'Extra Tree': ExtraTreesClassifier(n_estimators=10, random_state=0),\n",
        "    'SVM': SVC(),\n",
        "    'XGBoost': XGBClassifier(),\n",
        "    'Gradient Boosting': GradientBoostingClassifier(),\n",
        "    'LightGBM': LGBMClassifier()\n",
        "}\n",
        "\n",
        "# Initialize a DataFrame to store the results\n",
        "results_df = pd.DataFrame(columns=['Model', 'Precision', 'Recall', 'F1 Score', 'F2 Score'])\n",
        "\n",
        "# Train and evaluate each model\n",
        "for model_name, model in models.items():\n",
        "    print(f\"Training and evaluating {model_name}...\")\n",
        "\n",
        "    # Train the model\n",
        "    model.fit(X_train, y_train)\n",
        "\n",
        "    # Make predictions on the test set\n",
        "    y_pred = model.predict(X_test)\n",
        "\n",
        "    # Evaluate the model\n",
        "    precision = precision_score(y_test, y_pred)\n",
        "    recall = recall_score(y_test, y_pred)\n",
        "    f1 = f1_score(y_test, y_pred)\n",
        "    f2 = fbeta_score(y_test, y_pred, beta=2)\n",
        "\n",
        "    # Append the results to the DataFrame\n",
        "    results_df = results_df.append({'Model': model_name, 'Precision': precision, 'Recall': recall, 'F1 Score': f1, 'F2 Score': f2}, ignore_index=True)\n",
        "\n",
        "#Higlight the best performers\n",
        "styled_df = results_df.style.highlight_max(axis=0, color='yellow', subset=['Precision', 'Recall', 'F1 Score', 'F2 Score'])\n",
        "# Display the results DataFrame\n",
        "print(\"\\nResults:\")\n",
        "styled_df"
      ]
    },
    {
      "cell_type": "markdown",
      "metadata": {
        "id": "jfaNBgumS_IF"
      },
      "source": [
        "*   Looking at this we can see that XGBoost and LightGBM have the best F2 score at around 77%. Their recall is also pretty similar.\n",
        "*   Random forest also look promising as it has metrix that are balanced and not far behind the 2 best performer.\n",
        "*   Decision Tree has the best recall which is important in our case as we aim to predict if an applicant is at risk of behing rejected. Furthere to this DT is easily interpretable which is good if we want to explain to the applicant why his application might be rejected.\n",
        "\n",
        "We decide to go ahead with this four algorythms to the next stage."
      ]
    },
    {
      "cell_type": "markdown",
      "metadata": {
        "id": "PS4QkTLrWTz-"
      },
      "source": [
        "# **Spot Checking Resampling methods**"
      ]
    },
    {
      "cell_type": "markdown",
      "metadata": {
        "id": "hzivXDqeV7ku"
      },
      "source": [
        "We can see from the lo recaal that we have imbalance and bias. This is showed by the loa recall % and the much lower F2 score.\n",
        "\n",
        "Therefore we nee to explore ways of dealing with the accuracy paradox.\n",
        "\n",
        "We will experiment with resampling method such as SMOTE, SMOTE and Tomek and algorithm level methods, to help mitigate the bias toward the majority class."
      ]
    },
    {
      "cell_type": "code",
      "execution_count": 16,
      "metadata": {
        "id": "UA-n2WasaWyz"
      },
      "outputs": [],
      "source": [
        "# List of models to try\n",
        "models = {\n",
        "    'Random Forest': RandomForestClassifier(),\n",
        "    'Decision Tree': DecisionTreeClassifier(),\n",
        "    'XGBoost': XGBClassifier(),\n",
        "    'LightGBM': LGBMClassifier()\n",
        "}"
      ]
    },
    {
      "cell_type": "markdown",
      "metadata": {
        "id": "atGBDD6OaOZv"
      },
      "source": [
        "# SMOTE"
      ]
    },
    {
      "cell_type": "code",
      "source": [
        "from sklearn.metrics import roc_auc_score"
      ],
      "metadata": {
        "id": "r-8QNQBDIEMJ"
      },
      "execution_count": 21,
      "outputs": []
    },
    {
      "cell_type": "code",
      "execution_count": 37,
      "metadata": {
        "id": "jz6QIGcQV7Nk"
      },
      "outputs": [],
      "source": [
        "# Setting SMOTE\n",
        "smt = SMOTE(random_state=42)\n",
        "\n",
        "# Split the data into test and train+validation\n",
        "X_train_temp, X_test, y_train_temp, y_test = train_test_split(X, y, test_size=0.15, random_state=42)\n",
        "\n",
        "# Applying SMOTETomek to the training set\n",
        "X_smote, y_smote = smt.fit_resample(X_train_temp, y_train_temp)\n",
        "\n",
        "# Split the data into train and validation\n",
        "X_train, X_val, y_train, y_val = train_test_split(X_smote, y_smote, test_size=0.15, random_state=42)\n",
        "\n",
        "# Now X_train and y_train contain the training data,\n",
        "# X_val and y_val contain the validation data, and\n",
        "# X_test and y_test contain the testing data."
      ]
    },
    {
      "cell_type": "code",
      "execution_count": 38,
      "metadata": {
        "colab": {
          "base_uri": "https://localhost:8080/"
        },
        "id": "2Gl_yJ5US6Bq",
        "outputId": "2cfe0a34-c2a8-49b6-af74-96ac24ba8be4"
      },
      "outputs": [
        {
          "output_type": "stream",
          "name": "stdout",
          "text": [
            "Training and evaluating Random Forest...\n"
          ]
        },
        {
          "output_type": "stream",
          "name": "stderr",
          "text": [
            "<ipython-input-38-29b2586eb4b3>:25: FutureWarning: The frame.append method is deprecated and will be removed from pandas in a future version. Use pandas.concat instead.\n",
            "  results_val_df = results_val_df.append({'Model': model_name, 'Accuracy': accuracy_smote, 'Precision': precision_smote, 'Recall': recall_smote, 'F1 Score': f1_smote, 'F2 Score': f2_smote, 'AUC': auc_roc_smote}, ignore_index=True)\n",
            "<ipython-input-38-29b2586eb4b3>:41: FutureWarning: The frame.append method is deprecated and will be removed from pandas in a future version. Use pandas.concat instead.\n",
            "  results_test_df = results_test_df.append({'Model': model_name, 'Accuracy': accuracy_test, 'Precision': accuracy_test, 'Recall': recall_test, 'F1 Score': f1_test, 'F2 Score': f2_test, 'AUC': auc_roc_test}, ignore_index=True)\n"
          ]
        },
        {
          "output_type": "stream",
          "name": "stdout",
          "text": [
            "Training and evaluating Decision Tree...\n"
          ]
        },
        {
          "output_type": "stream",
          "name": "stderr",
          "text": [
            "<ipython-input-38-29b2586eb4b3>:25: FutureWarning: The frame.append method is deprecated and will be removed from pandas in a future version. Use pandas.concat instead.\n",
            "  results_val_df = results_val_df.append({'Model': model_name, 'Accuracy': accuracy_smote, 'Precision': precision_smote, 'Recall': recall_smote, 'F1 Score': f1_smote, 'F2 Score': f2_smote, 'AUC': auc_roc_smote}, ignore_index=True)\n",
            "<ipython-input-38-29b2586eb4b3>:41: FutureWarning: The frame.append method is deprecated and will be removed from pandas in a future version. Use pandas.concat instead.\n",
            "  results_test_df = results_test_df.append({'Model': model_name, 'Accuracy': accuracy_test, 'Precision': accuracy_test, 'Recall': recall_test, 'F1 Score': f1_test, 'F2 Score': f2_test, 'AUC': auc_roc_test}, ignore_index=True)\n"
          ]
        },
        {
          "output_type": "stream",
          "name": "stdout",
          "text": [
            "Training and evaluating XGBoost...\n"
          ]
        },
        {
          "output_type": "stream",
          "name": "stderr",
          "text": [
            "<ipython-input-38-29b2586eb4b3>:25: FutureWarning: The frame.append method is deprecated and will be removed from pandas in a future version. Use pandas.concat instead.\n",
            "  results_val_df = results_val_df.append({'Model': model_name, 'Accuracy': accuracy_smote, 'Precision': precision_smote, 'Recall': recall_smote, 'F1 Score': f1_smote, 'F2 Score': f2_smote, 'AUC': auc_roc_smote}, ignore_index=True)\n",
            "<ipython-input-38-29b2586eb4b3>:41: FutureWarning: The frame.append method is deprecated and will be removed from pandas in a future version. Use pandas.concat instead.\n",
            "  results_test_df = results_test_df.append({'Model': model_name, 'Accuracy': accuracy_test, 'Precision': accuracy_test, 'Recall': recall_test, 'F1 Score': f1_test, 'F2 Score': f2_test, 'AUC': auc_roc_test}, ignore_index=True)\n"
          ]
        },
        {
          "output_type": "stream",
          "name": "stdout",
          "text": [
            "Training and evaluating LightGBM...\n",
            "[LightGBM] [Info] Number of positive: 17851, number of negative: 17774\n",
            "[LightGBM] [Info] Auto-choosing row-wise multi-threading, the overhead of testing was 0.001325 seconds.\n",
            "You can set `force_row_wise=true` to remove the overhead.\n",
            "And if memory is not enough, you can set `force_col_wise=true`.\n",
            "[LightGBM] [Info] Total Bins 1549\n",
            "[LightGBM] [Info] Number of data points in the train set: 35625, number of used features: 10\n",
            "[LightGBM] [Info] [binary:BoostFromScore]: pavg=0.501081 -> initscore=0.004323\n",
            "[LightGBM] [Info] Start training from score 0.004323\n"
          ]
        },
        {
          "output_type": "stream",
          "name": "stderr",
          "text": [
            "<ipython-input-38-29b2586eb4b3>:25: FutureWarning: The frame.append method is deprecated and will be removed from pandas in a future version. Use pandas.concat instead.\n",
            "  results_val_df = results_val_df.append({'Model': model_name, 'Accuracy': accuracy_smote, 'Precision': precision_smote, 'Recall': recall_smote, 'F1 Score': f1_smote, 'F2 Score': f2_smote, 'AUC': auc_roc_smote}, ignore_index=True)\n",
            "<ipython-input-38-29b2586eb4b3>:41: FutureWarning: The frame.append method is deprecated and will be removed from pandas in a future version. Use pandas.concat instead.\n",
            "  results_test_df = results_test_df.append({'Model': model_name, 'Accuracy': accuracy_test, 'Precision': accuracy_test, 'Recall': recall_test, 'F1 Score': f1_test, 'F2 Score': f2_test, 'AUC': auc_roc_test}, ignore_index=True)\n"
          ]
        }
      ],
      "source": [
        "# Initialize a DataFrame to store the results\n",
        "results_val_df = pd.DataFrame(columns=['Model', 'Accuracy', 'Precision', 'Recall', 'F1 Score', 'F2 Score', 'AUC'])\n",
        "results_test_df = pd.DataFrame(columns=['Model', 'Accuracy', 'Precision', 'Recall', 'F1 Score', 'F2 Score', 'AUC'])\n",
        "\n",
        "# Train and evaluate each model\n",
        "for model_name, model in models.items():\n",
        "    print(f\"Training and evaluating {model_name}...\")\n",
        "\n",
        "    # Train the model\n",
        "    model.fit(X_train, y_train)\n",
        "\n",
        "    # Make predictions on the test set\n",
        "    y_pred_val = model.predict(X_val)\n",
        "\n",
        "    # Evaluate the model\n",
        "    accuracy_smote = accuracy_score(y_val, y_pred_val)\n",
        "    precision_smote = precision_score(y_val, y_pred_val)\n",
        "    recall_smote = recall_score(y_val, y_pred_val)\n",
        "    f1_smote = f1_score(y_val, y_pred_val)\n",
        "    f2_smote = fbeta_score(y_val, y_pred_val, beta=2)\n",
        "    auc_roc_smote = roc_auc_score(y_val, y_pred_val)\n",
        "\n",
        "\n",
        "    # Append the results to the DataFrame\n",
        "    results_val_df = results_val_df.append({'Model': model_name, 'Accuracy': accuracy_smote, 'Precision': precision_smote, 'Recall': recall_smote, 'F1 Score': f1_smote, 'F2 Score': f2_smote, 'AUC': auc_roc_smote}, ignore_index=True)\n",
        "\n",
        "\n",
        "    # Predicting values from the imbalanced X_test (i.e X_test without SMOTE)\n",
        "    y_pred_test = model.predict(X_test)\n",
        "\n",
        "    # Evaluate the model\n",
        "    accuracy_test = accuracy_score(y_test, y_pred_test)\n",
        "    precision_test = precision_score(y_test, y_pred_test)\n",
        "    recall_test = recall_score(y_test, y_pred_test)\n",
        "    f1_test = f1_score(y_test, y_pred_test)\n",
        "    f2_test = fbeta_score(y_test, y_pred_test, beta=2)\n",
        "    auc_roc_test = roc_auc_score(y_test, y_pred_test)\n",
        "\n",
        "\n",
        "    # Append the results to the DataFrame\n",
        "    results_test_df = results_test_df.append({'Model': model_name, 'Accuracy': accuracy_test, 'Precision': accuracy_test, 'Recall': recall_test, 'F1 Score': f1_test, 'F2 Score': f2_test, 'AUC': auc_roc_test}, ignore_index=True)\n",
        "\n",
        "#Higlight the best performers\n",
        "results_val_df = results_val_df.style.highlight_max(axis=0, color='yellow', subset=['Accuracy', 'Precision', 'Recall', 'F1 Score', 'F2 Score', 'AUC'])\n",
        "#Higlight the best performers\n",
        "results_test_df = results_test_df.style.highlight_max(axis=0, color='yellow', subset=['Accuracy', 'Precision', 'Recall', 'F1 Score', 'F2 Score', 'AUC'])\n"
      ]
    },
    {
      "cell_type": "code",
      "source": [
        "# Display the results of the Validation dataset\n",
        "results_val_df"
      ],
      "metadata": {
        "colab": {
          "base_uri": "https://localhost:8080/",
          "height": 175
        },
        "id": "9OLxAvELIQiq",
        "outputId": "c08d4932-73da-4cac-ca27-176ff7c39cb7"
      },
      "execution_count": 39,
      "outputs": [
        {
          "output_type": "execute_result",
          "data": {
            "text/plain": [
              "<pandas.io.formats.style.Styler at 0x7f507d3abd60>"
            ],
            "text/html": [
              "<style type=\"text/css\">\n",
              "#T_a0d47_row2_col1, #T_a0d47_row2_col3, #T_a0d47_row2_col4, #T_a0d47_row2_col5, #T_a0d47_row2_col6, #T_a0d47_row3_col2 {\n",
              "  background-color: yellow;\n",
              "}\n",
              "</style>\n",
              "<table id=\"T_a0d47\" class=\"dataframe\">\n",
              "  <thead>\n",
              "    <tr>\n",
              "      <th class=\"blank level0\" >&nbsp;</th>\n",
              "      <th id=\"T_a0d47_level0_col0\" class=\"col_heading level0 col0\" >Model</th>\n",
              "      <th id=\"T_a0d47_level0_col1\" class=\"col_heading level0 col1\" >Accuracy</th>\n",
              "      <th id=\"T_a0d47_level0_col2\" class=\"col_heading level0 col2\" >Precision</th>\n",
              "      <th id=\"T_a0d47_level0_col3\" class=\"col_heading level0 col3\" >Recall</th>\n",
              "      <th id=\"T_a0d47_level0_col4\" class=\"col_heading level0 col4\" >F1 Score</th>\n",
              "      <th id=\"T_a0d47_level0_col5\" class=\"col_heading level0 col5\" >F2 Score</th>\n",
              "      <th id=\"T_a0d47_level0_col6\" class=\"col_heading level0 col6\" >AUC</th>\n",
              "    </tr>\n",
              "  </thead>\n",
              "  <tbody>\n",
              "    <tr>\n",
              "      <th id=\"T_a0d47_level0_row0\" class=\"row_heading level0 row0\" >0</th>\n",
              "      <td id=\"T_a0d47_row0_col0\" class=\"data row0 col0\" >Random Forest</td>\n",
              "      <td id=\"T_a0d47_row0_col1\" class=\"data row0 col1\" >0.942262</td>\n",
              "      <td id=\"T_a0d47_row0_col2\" class=\"data row0 col2\" >0.973085</td>\n",
              "      <td id=\"T_a0d47_row0_col3\" class=\"data row0 col3\" >0.908213</td>\n",
              "      <td id=\"T_a0d47_row0_col4\" class=\"data row0 col4\" >0.939530</td>\n",
              "      <td id=\"T_a0d47_row0_col5\" class=\"data row0 col5\" >0.920486</td>\n",
              "      <td id=\"T_a0d47_row0_col6\" class=\"data row0 col6\" >0.941850</td>\n",
              "    </tr>\n",
              "    <tr>\n",
              "      <th id=\"T_a0d47_level0_row1\" class=\"row_heading level0 row1\" >1</th>\n",
              "      <td id=\"T_a0d47_row1_col0\" class=\"data row1 col0\" >Decision Tree</td>\n",
              "      <td id=\"T_a0d47_row1_col1\" class=\"data row1 col1\" >0.898680</td>\n",
              "      <td id=\"T_a0d47_row1_col2\" class=\"data row1 col2\" >0.895767</td>\n",
              "      <td id=\"T_a0d47_row1_col3\" class=\"data row1 col3\" >0.899517</td>\n",
              "      <td id=\"T_a0d47_row1_col4\" class=\"data row1 col4\" >0.897638</td>\n",
              "      <td id=\"T_a0d47_row1_col5\" class=\"data row1 col5\" >0.898764</td>\n",
              "      <td id=\"T_a0d47_row1_col6\" class=\"data row1 col6\" >0.898690</td>\n",
              "    </tr>\n",
              "    <tr>\n",
              "      <th id=\"T_a0d47_level0_row2\" class=\"row_heading level0 row2\" >2</th>\n",
              "      <td id=\"T_a0d47_row2_col0\" class=\"data row2 col0\" >XGBoost</td>\n",
              "      <td id=\"T_a0d47_row2_col1\" class=\"data row2 col1\" >0.955146</td>\n",
              "      <td id=\"T_a0d47_row2_col2\" class=\"data row2 col2\" >0.990957</td>\n",
              "      <td id=\"T_a0d47_row2_col3\" class=\"data row2 col3\" >0.917552</td>\n",
              "      <td id=\"T_a0d47_row2_col4\" class=\"data row2 col4\" >0.952843</td>\n",
              "      <td id=\"T_a0d47_row2_col5\" class=\"data row2 col5\" >0.931350</td>\n",
              "      <td id=\"T_a0d47_row2_col6\" class=\"data row2 col6\" >0.954691</td>\n",
              "    </tr>\n",
              "    <tr>\n",
              "      <th id=\"T_a0d47_level0_row3\" class=\"row_heading level0 row3\" >3</th>\n",
              "      <td id=\"T_a0d47_row3_col0\" class=\"data row3 col0\" >LightGBM</td>\n",
              "      <td id=\"T_a0d47_row3_col1\" class=\"data row3 col1\" >0.951328</td>\n",
              "      <td id=\"T_a0d47_row3_col2\" class=\"data row3 col2\" >0.993999</td>\n",
              "      <td id=\"T_a0d47_row3_col3\" class=\"data row3 col3\" >0.906924</td>\n",
              "      <td id=\"T_a0d47_row3_col4\" class=\"data row3 col4\" >0.948467</td>\n",
              "      <td id=\"T_a0d47_row3_col5\" class=\"data row3 col5\" >0.923097</td>\n",
              "      <td id=\"T_a0d47_row3_col6\" class=\"data row3 col6\" >0.950791</td>\n",
              "    </tr>\n",
              "  </tbody>\n",
              "</table>\n"
            ]
          },
          "metadata": {},
          "execution_count": 39
        }
      ]
    },
    {
      "cell_type": "code",
      "execution_count": 40,
      "metadata": {
        "colab": {
          "base_uri": "https://localhost:8080/",
          "height": 175
        },
        "id": "OJvXTjZCS5-V",
        "outputId": "1f1f0e1d-e842-4285-92ac-a46c2217f6d2"
      },
      "outputs": [
        {
          "output_type": "execute_result",
          "data": {
            "text/plain": [
              "<pandas.io.formats.style.Styler at 0x7f50d24223e0>"
            ],
            "text/html": [
              "<style type=\"text/css\">\n",
              "#T_18798_row1_col3, #T_18798_row2_col4, #T_18798_row2_col5, #T_18798_row2_col6, #T_18798_row3_col1, #T_18798_row3_col2 {\n",
              "  background-color: yellow;\n",
              "}\n",
              "</style>\n",
              "<table id=\"T_18798\" class=\"dataframe\">\n",
              "  <thead>\n",
              "    <tr>\n",
              "      <th class=\"blank level0\" >&nbsp;</th>\n",
              "      <th id=\"T_18798_level0_col0\" class=\"col_heading level0 col0\" >Model</th>\n",
              "      <th id=\"T_18798_level0_col1\" class=\"col_heading level0 col1\" >Accuracy</th>\n",
              "      <th id=\"T_18798_level0_col2\" class=\"col_heading level0 col2\" >Precision</th>\n",
              "      <th id=\"T_18798_level0_col3\" class=\"col_heading level0 col3\" >Recall</th>\n",
              "      <th id=\"T_18798_level0_col4\" class=\"col_heading level0 col4\" >F1 Score</th>\n",
              "      <th id=\"T_18798_level0_col5\" class=\"col_heading level0 col5\" >F2 Score</th>\n",
              "      <th id=\"T_18798_level0_col6\" class=\"col_heading level0 col6\" >AUC</th>\n",
              "    </tr>\n",
              "  </thead>\n",
              "  <tbody>\n",
              "    <tr>\n",
              "      <th id=\"T_18798_level0_row0\" class=\"row_heading level0 row0\" >0</th>\n",
              "      <td id=\"T_18798_row0_col0\" class=\"data row0 col0\" >Random Forest</td>\n",
              "      <td id=\"T_18798_row0_col1\" class=\"data row0 col1\" >0.921515</td>\n",
              "      <td id=\"T_18798_row0_col2\" class=\"data row0 col2\" >0.921515</td>\n",
              "      <td id=\"T_18798_row0_col3\" class=\"data row0 col3\" >0.725971</td>\n",
              "      <td id=\"T_18798_row0_col4\" class=\"data row0 col4\" >0.792853</td>\n",
              "      <td id=\"T_18798_row0_col5\" class=\"data row0 col5\" >0.751323</td>\n",
              "      <td id=\"T_18798_row0_col6\" class=\"data row0 col6\" >0.849249</td>\n",
              "    </tr>\n",
              "    <tr>\n",
              "      <th id=\"T_18798_level0_row1\" class=\"row_heading level0 row1\" >1</th>\n",
              "      <td id=\"T_18798_row1_col0\" class=\"data row1 col0\" >Decision Tree</td>\n",
              "      <td id=\"T_18798_row1_col1\" class=\"data row1 col1\" >0.859107</td>\n",
              "      <td id=\"T_18798_row1_col2\" class=\"data row1 col2\" >0.859107</td>\n",
              "      <td id=\"T_18798_row1_col3\" class=\"data row1 col3\" >0.750511</td>\n",
              "      <td id=\"T_18798_row1_col4\" class=\"data row1 col4\" >0.687910</td>\n",
              "      <td id=\"T_18798_row1_col5\" class=\"data row1 col5\" >0.724152</td>\n",
              "      <td id=\"T_18798_row1_col6\" class=\"data row1 col6\" >0.818974</td>\n",
              "    </tr>\n",
              "    <tr>\n",
              "      <th id=\"T_18798_level0_row2\" class=\"row_heading level0 row2\" >2</th>\n",
              "      <td id=\"T_18798_row2_col0\" class=\"data row2 col0\" >XGBoost</td>\n",
              "      <td id=\"T_18798_row2_col1\" class=\"data row2 col1\" >0.935054</td>\n",
              "      <td id=\"T_18798_row2_col2\" class=\"data row2 col2\" >0.935054</td>\n",
              "      <td id=\"T_18798_row2_col3\" class=\"data row2 col3\" >0.726994</td>\n",
              "      <td id=\"T_18798_row2_col4\" class=\"data row2 col4\" >0.822441</td>\n",
              "      <td id=\"T_18798_row2_col5\" class=\"data row2 col5\" >0.762385</td>\n",
              "      <td id=\"T_18798_row2_col6\" class=\"data row2 col6\" >0.858162</td>\n",
              "    </tr>\n",
              "    <tr>\n",
              "      <th id=\"T_18798_level0_row3\" class=\"row_heading level0 row3\" >3</th>\n",
              "      <td id=\"T_18798_row3_col0\" class=\"data row3 col0\" >LightGBM</td>\n",
              "      <td id=\"T_18798_row3_col1\" class=\"data row3 col1\" >0.936112</td>\n",
              "      <td id=\"T_18798_row3_col2\" class=\"data row3 col2\" >0.936112</td>\n",
              "      <td id=\"T_18798_row3_col3\" class=\"data row3 col3\" >0.711656</td>\n",
              "      <td id=\"T_18798_row3_col4\" class=\"data row3 col4\" >0.821724</td>\n",
              "      <td id=\"T_18798_row3_col5\" class=\"data row3 col5\" >0.751945</td>\n",
              "      <td id=\"T_18798_row3_col6\" class=\"data row3 col6\" >0.853161</td>\n",
              "    </tr>\n",
              "  </tbody>\n",
              "</table>\n"
            ]
          },
          "metadata": {},
          "execution_count": 40
        }
      ],
      "source": [
        "# Display the results of the unseen Test dataset\n",
        "results_test_df"
      ]
    },
    {
      "cell_type": "markdown",
      "metadata": {
        "id": "qZuhYvPb11gM"
      },
      "source": [
        "# ADASYN"
      ]
    },
    {
      "cell_type": "code",
      "execution_count": 41,
      "metadata": {
        "id": "fT_UBWjE15kt"
      },
      "outputs": [],
      "source": [
        "# Setting ADASYN\n",
        "ada = ADASYN(random_state=42)\n",
        "\n",
        "# Split the data into test and train+validation\n",
        "X_train_temp, X_test, y_train_temp, y_test = train_test_split(X, y, test_size=0.15, random_state=42)\n",
        "\n",
        "# Applying SMOTETomek to the training set\n",
        "X_adasyn, y_adasyn = ada.fit_resample(X_train_temp, y_train_temp)\n",
        "\n",
        "# Split the data into train and validation\n",
        "X_train, X_val, y_train, y_val = train_test_split(X_adasyn, y_adasyn, test_size=0.15, random_state=42)\n",
        "\n",
        "# Now X_train and y_train contain the training data,\n",
        "# X_val and y_val contain the validation data, and\n",
        "# X_test and y_test contain the testing data."
      ]
    },
    {
      "cell_type": "code",
      "execution_count": 42,
      "metadata": {
        "colab": {
          "base_uri": "https://localhost:8080/"
        },
        "id": "2m2i2omb15id",
        "outputId": "1ea6000f-aa67-4a11-a132-6cdb6a4d30eb"
      },
      "outputs": [
        {
          "output_type": "stream",
          "name": "stdout",
          "text": [
            "Training and evaluating Random Forest...\n"
          ]
        },
        {
          "output_type": "stream",
          "name": "stderr",
          "text": [
            "<ipython-input-42-64bb5071a257>:25: FutureWarning: The frame.append method is deprecated and will be removed from pandas in a future version. Use pandas.concat instead.\n",
            "  results_val_df = results_val_df.append({'Model': model_name, 'Accuracy': accuracy_adasyn, 'Precision': precision_adasyn, 'Recall': recall_adasyn, 'F1 Score': f1_adasyn, 'F2 Score': f2_adasyn, 'AUC': auc_roc_adasyn}, ignore_index=True)\n",
            "<ipython-input-42-64bb5071a257>:41: FutureWarning: The frame.append method is deprecated and will be removed from pandas in a future version. Use pandas.concat instead.\n",
            "  results_test_df = results_test_df.append({'Model': model_name, 'Accuracy': accuracy_test, 'Precision': accuracy_test, 'Recall': recall_test, 'F1 Score': f1_test, 'F2 Score': f2_test, 'AUC': auc_roc_test}, ignore_index=True)\n"
          ]
        },
        {
          "output_type": "stream",
          "name": "stdout",
          "text": [
            "Training and evaluating Decision Tree...\n"
          ]
        },
        {
          "output_type": "stream",
          "name": "stderr",
          "text": [
            "<ipython-input-42-64bb5071a257>:25: FutureWarning: The frame.append method is deprecated and will be removed from pandas in a future version. Use pandas.concat instead.\n",
            "  results_val_df = results_val_df.append({'Model': model_name, 'Accuracy': accuracy_adasyn, 'Precision': precision_adasyn, 'Recall': recall_adasyn, 'F1 Score': f1_adasyn, 'F2 Score': f2_adasyn, 'AUC': auc_roc_adasyn}, ignore_index=True)\n",
            "<ipython-input-42-64bb5071a257>:41: FutureWarning: The frame.append method is deprecated and will be removed from pandas in a future version. Use pandas.concat instead.\n",
            "  results_test_df = results_test_df.append({'Model': model_name, 'Accuracy': accuracy_test, 'Precision': accuracy_test, 'Recall': recall_test, 'F1 Score': f1_test, 'F2 Score': f2_test, 'AUC': auc_roc_test}, ignore_index=True)\n"
          ]
        },
        {
          "output_type": "stream",
          "name": "stdout",
          "text": [
            "Training and evaluating XGBoost...\n"
          ]
        },
        {
          "output_type": "stream",
          "name": "stderr",
          "text": [
            "<ipython-input-42-64bb5071a257>:25: FutureWarning: The frame.append method is deprecated and will be removed from pandas in a future version. Use pandas.concat instead.\n",
            "  results_val_df = results_val_df.append({'Model': model_name, 'Accuracy': accuracy_adasyn, 'Precision': precision_adasyn, 'Recall': recall_adasyn, 'F1 Score': f1_adasyn, 'F2 Score': f2_adasyn, 'AUC': auc_roc_adasyn}, ignore_index=True)\n",
            "<ipython-input-42-64bb5071a257>:41: FutureWarning: The frame.append method is deprecated and will be removed from pandas in a future version. Use pandas.concat instead.\n",
            "  results_test_df = results_test_df.append({'Model': model_name, 'Accuracy': accuracy_test, 'Precision': accuracy_test, 'Recall': recall_test, 'F1 Score': f1_test, 'F2 Score': f2_test, 'AUC': auc_roc_test}, ignore_index=True)\n"
          ]
        },
        {
          "output_type": "stream",
          "name": "stdout",
          "text": [
            "Training and evaluating LightGBM...\n",
            "[LightGBM] [Info] Number of positive: 17709, number of negative: 17811\n",
            "[LightGBM] [Info] Auto-choosing row-wise multi-threading, the overhead of testing was 0.001334 seconds.\n",
            "You can set `force_row_wise=true` to remove the overhead.\n",
            "And if memory is not enough, you can set `force_col_wise=true`.\n",
            "[LightGBM] [Info] Total Bins 1549\n",
            "[LightGBM] [Info] Number of data points in the train set: 35520, number of used features: 10\n",
            "[LightGBM] [Info] [binary:BoostFromScore]: pavg=0.498564 -> initscore=-0.005743\n",
            "[LightGBM] [Info] Start training from score -0.005743\n"
          ]
        },
        {
          "output_type": "stream",
          "name": "stderr",
          "text": [
            "<ipython-input-42-64bb5071a257>:25: FutureWarning: The frame.append method is deprecated and will be removed from pandas in a future version. Use pandas.concat instead.\n",
            "  results_val_df = results_val_df.append({'Model': model_name, 'Accuracy': accuracy_adasyn, 'Precision': precision_adasyn, 'Recall': recall_adasyn, 'F1 Score': f1_adasyn, 'F2 Score': f2_adasyn, 'AUC': auc_roc_adasyn}, ignore_index=True)\n",
            "<ipython-input-42-64bb5071a257>:41: FutureWarning: The frame.append method is deprecated and will be removed from pandas in a future version. Use pandas.concat instead.\n",
            "  results_test_df = results_test_df.append({'Model': model_name, 'Accuracy': accuracy_test, 'Precision': accuracy_test, 'Recall': recall_test, 'F1 Score': f1_test, 'F2 Score': f2_test, 'AUC': auc_roc_test}, ignore_index=True)\n"
          ]
        }
      ],
      "source": [
        "# Initialize a DataFrame to store the results\n",
        "results_val_df = pd.DataFrame(columns=['Model', 'Accuracy', 'Precision', 'Recall', 'F1 Score', 'F2 Score', 'AUC'])\n",
        "results_test_df = pd.DataFrame(columns=['Model', 'Accuracy', 'Precision', 'Recall', 'F1 Score', 'F2 Score', 'AUC'])\n",
        "\n",
        "# Train and evaluate each model\n",
        "for model_name, model in models.items():\n",
        "    print(f\"Training and evaluating {model_name}...\")\n",
        "\n",
        "    # Train the model\n",
        "    model.fit(X_train, y_train)\n",
        "\n",
        "    # Make predictions on the test set\n",
        "    y_pred_val = model.predict(X_val)\n",
        "\n",
        "    # Evaluate the model\n",
        "    accuracy_adasyn = accuracy_score(y_val, y_pred_val)\n",
        "    precision_adasyn = precision_score(y_val, y_pred_val)\n",
        "    recall_adasyn = recall_score(y_val, y_pred_val)\n",
        "    f1_adasyn = f1_score(y_val, y_pred_val)\n",
        "    f2_adasyn = fbeta_score(y_val, y_pred_val, beta=2)\n",
        "    auc_roc_adasyn = roc_auc_score(y_val, y_pred_val)\n",
        "\n",
        "\n",
        "    # Append the results to the DataFrame\n",
        "    results_val_df = results_val_df.append({'Model': model_name, 'Accuracy': accuracy_adasyn, 'Precision': precision_adasyn, 'Recall': recall_adasyn, 'F1 Score': f1_adasyn, 'F2 Score': f2_adasyn, 'AUC': auc_roc_adasyn}, ignore_index=True)\n",
        "\n",
        "\n",
        "    # Predicting values from the imbalanced X_test (i.e X_test without SMOTE)\n",
        "    y_pred_test = model.predict(X_test)\n",
        "\n",
        "    # Evaluate the model\n",
        "    accuracy_test = accuracy_score(y_test, y_pred_test)\n",
        "    precision_test = precision_score(y_test, y_pred_test)\n",
        "    recall_test = recall_score(y_test, y_pred_test)\n",
        "    f1_test = f1_score(y_test, y_pred_test)\n",
        "    f2_test = fbeta_score(y_test, y_pred_test, beta=2)\n",
        "    auc_roc_test = roc_auc_score(y_test, y_pred_test)\n",
        "\n",
        "\n",
        "    # Append the results to the DataFrame\n",
        "    results_test_df = results_test_df.append({'Model': model_name, 'Accuracy': accuracy_test, 'Precision': accuracy_test, 'Recall': recall_test, 'F1 Score': f1_test, 'F2 Score': f2_test, 'AUC': auc_roc_test}, ignore_index=True)\n",
        "\n",
        "#Higlight the best performers\n",
        "results_val_df = results_val_df.style.highlight_max(axis=0, color='yellow', subset=['Accuracy', 'Precision', 'Recall', 'F1 Score', 'F2 Score', 'AUC'])\n",
        "#Higlight the best performers\n",
        "results_test_df = results_test_df.style.highlight_max(axis=0, color='yellow', subset=['Accuracy', 'Precision', 'Recall', 'F1 Score', 'F2 Score', 'AUC'])"
      ]
    },
    {
      "cell_type": "code",
      "execution_count": 43,
      "metadata": {
        "colab": {
          "base_uri": "https://localhost:8080/",
          "height": 175
        },
        "id": "i0AFSNhZ15gP",
        "outputId": "d0da673b-5429-44d9-c3a3-08d9d6e3ce6c"
      },
      "outputs": [
        {
          "output_type": "execute_result",
          "data": {
            "text/plain": [
              "<pandas.io.formats.style.Styler at 0x7f507c5365f0>"
            ],
            "text/html": [
              "<style type=\"text/css\">\n",
              "#T_0732e_row0_col3, #T_0732e_row0_col5, #T_0732e_row2_col1, #T_0732e_row2_col4, #T_0732e_row2_col6, #T_0732e_row3_col2 {\n",
              "  background-color: yellow;\n",
              "}\n",
              "</style>\n",
              "<table id=\"T_0732e\" class=\"dataframe\">\n",
              "  <thead>\n",
              "    <tr>\n",
              "      <th class=\"blank level0\" >&nbsp;</th>\n",
              "      <th id=\"T_0732e_level0_col0\" class=\"col_heading level0 col0\" >Model</th>\n",
              "      <th id=\"T_0732e_level0_col1\" class=\"col_heading level0 col1\" >Accuracy</th>\n",
              "      <th id=\"T_0732e_level0_col2\" class=\"col_heading level0 col2\" >Precision</th>\n",
              "      <th id=\"T_0732e_level0_col3\" class=\"col_heading level0 col3\" >Recall</th>\n",
              "      <th id=\"T_0732e_level0_col4\" class=\"col_heading level0 col4\" >F1 Score</th>\n",
              "      <th id=\"T_0732e_level0_col5\" class=\"col_heading level0 col5\" >F2 Score</th>\n",
              "      <th id=\"T_0732e_level0_col6\" class=\"col_heading level0 col6\" >AUC</th>\n",
              "    </tr>\n",
              "  </thead>\n",
              "  <tbody>\n",
              "    <tr>\n",
              "      <th id=\"T_0732e_level0_row0\" class=\"row_heading level0 row0\" >0</th>\n",
              "      <td id=\"T_0732e_row0_col0\" class=\"data row0 col0\" >Random Forest</td>\n",
              "      <td id=\"T_0732e_row0_col1\" class=\"data row0 col1\" >0.944010</td>\n",
              "      <td id=\"T_0732e_row0_col2\" class=\"data row0 col2\" >0.959562</td>\n",
              "      <td id=\"T_0732e_row0_col3\" class=\"data row0 col3\" >0.926697</td>\n",
              "      <td id=\"T_0732e_row0_col4\" class=\"data row0 col4\" >0.942843</td>\n",
              "      <td id=\"T_0732e_row0_col5\" class=\"data row0 col5\" >0.933088</td>\n",
              "      <td id=\"T_0732e_row0_col6\" class=\"data row0 col6\" >0.943952</td>\n",
              "    </tr>\n",
              "    <tr>\n",
              "      <th id=\"T_0732e_level0_row1\" class=\"row_heading level0 row1\" >1</th>\n",
              "      <td id=\"T_0732e_row1_col0\" class=\"data row1 col0\" >Decision Tree</td>\n",
              "      <td id=\"T_0732e_row1_col1\" class=\"data row1 col1\" >0.886266</td>\n",
              "      <td id=\"T_0732e_row1_col2\" class=\"data row1 col2\" >0.879446</td>\n",
              "      <td id=\"T_0732e_row1_col3\" class=\"data row1 col3\" >0.894366</td>\n",
              "      <td id=\"T_0732e_row1_col4\" class=\"data row1 col4\" >0.886843</td>\n",
              "      <td id=\"T_0732e_row1_col5\" class=\"data row1 col5\" >0.891342</td>\n",
              "      <td id=\"T_0732e_row1_col6\" class=\"data row1 col6\" >0.886293</td>\n",
              "    </tr>\n",
              "    <tr>\n",
              "      <th id=\"T_0732e_level0_row2\" class=\"row_heading level0 row2\" >2</th>\n",
              "      <td id=\"T_0732e_row2_col0\" class=\"data row2 col0\" >XGBoost</td>\n",
              "      <td id=\"T_0732e_row2_col1\" class=\"data row2 col1\" >0.951029</td>\n",
              "      <td id=\"T_0732e_row2_col2\" class=\"data row2 col2\" >0.988554</td>\n",
              "      <td id=\"T_0732e_row2_col3\" class=\"data row2 col3\" >0.912292</td>\n",
              "      <td id=\"T_0732e_row2_col4\" class=\"data row2 col4\" >0.948893</td>\n",
              "      <td id=\"T_0732e_row2_col5\" class=\"data row2 col5\" >0.926588</td>\n",
              "      <td id=\"T_0732e_row2_col6\" class=\"data row2 col6\" >0.950900</td>\n",
              "    </tr>\n",
              "    <tr>\n",
              "      <th id=\"T_0732e_level0_row3\" class=\"row_heading level0 row3\" >3</th>\n",
              "      <td id=\"T_0732e_row3_col0\" class=\"data row3 col0\" >LightGBM</td>\n",
              "      <td id=\"T_0732e_row3_col1\" class=\"data row3 col1\" >0.947839</td>\n",
              "      <td id=\"T_0732e_row3_col2\" class=\"data row3 col2\" >0.990530</td>\n",
              "      <td id=\"T_0732e_row3_col3\" class=\"data row3 col3\" >0.903969</td>\n",
              "      <td id=\"T_0732e_row3_col4\" class=\"data row3 col4\" >0.945272</td>\n",
              "      <td id=\"T_0732e_row3_col5\" class=\"data row3 col5\" >0.920050</td>\n",
              "      <td id=\"T_0732e_row3_col6\" class=\"data row3 col6\" >0.947692</td>\n",
              "    </tr>\n",
              "  </tbody>\n",
              "</table>\n"
            ]
          },
          "metadata": {},
          "execution_count": 43
        }
      ],
      "source": [
        "results_val_df"
      ]
    },
    {
      "cell_type": "code",
      "source": [
        "results_test_df"
      ],
      "metadata": {
        "colab": {
          "base_uri": "https://localhost:8080/",
          "height": 175
        },
        "id": "PtBxEzmlKC52",
        "outputId": "3c8eb131-4496-4f8f-eb3b-96414397906c"
      },
      "execution_count": 44,
      "outputs": [
        {
          "output_type": "execute_result",
          "data": {
            "text/plain": [
              "<pandas.io.formats.style.Styler at 0x7f5077c33100>"
            ],
            "text/html": [
              "<style type=\"text/css\">\n",
              "#T_38be3_row1_col3, #T_38be3_row2_col5, #T_38be3_row2_col6, #T_38be3_row3_col1, #T_38be3_row3_col2, #T_38be3_row3_col4 {\n",
              "  background-color: yellow;\n",
              "}\n",
              "</style>\n",
              "<table id=\"T_38be3\" class=\"dataframe\">\n",
              "  <thead>\n",
              "    <tr>\n",
              "      <th class=\"blank level0\" >&nbsp;</th>\n",
              "      <th id=\"T_38be3_level0_col0\" class=\"col_heading level0 col0\" >Model</th>\n",
              "      <th id=\"T_38be3_level0_col1\" class=\"col_heading level0 col1\" >Accuracy</th>\n",
              "      <th id=\"T_38be3_level0_col2\" class=\"col_heading level0 col2\" >Precision</th>\n",
              "      <th id=\"T_38be3_level0_col3\" class=\"col_heading level0 col3\" >Recall</th>\n",
              "      <th id=\"T_38be3_level0_col4\" class=\"col_heading level0 col4\" >F1 Score</th>\n",
              "      <th id=\"T_38be3_level0_col5\" class=\"col_heading level0 col5\" >F2 Score</th>\n",
              "      <th id=\"T_38be3_level0_col6\" class=\"col_heading level0 col6\" >AUC</th>\n",
              "    </tr>\n",
              "  </thead>\n",
              "  <tbody>\n",
              "    <tr>\n",
              "      <th id=\"T_38be3_level0_row0\" class=\"row_heading level0 row0\" >0</th>\n",
              "      <td id=\"T_38be3_row0_col0\" class=\"data row0 col0\" >Random Forest</td>\n",
              "      <td id=\"T_38be3_row0_col1\" class=\"data row0 col1\" >0.914534</td>\n",
              "      <td id=\"T_38be3_row0_col2\" class=\"data row0 col2\" >0.914534</td>\n",
              "      <td id=\"T_38be3_row0_col3\" class=\"data row0 col3\" >0.732106</td>\n",
              "      <td id=\"T_38be3_row0_col4\" class=\"data row0 col4\" >0.779956</td>\n",
              "      <td id=\"T_38be3_row0_col5\" class=\"data row0 col5\" >0.750524</td>\n",
              "      <td id=\"T_38be3_row0_col6\" class=\"data row0 col6\" >0.847115</td>\n",
              "    </tr>\n",
              "    <tr>\n",
              "      <th id=\"T_38be3_level0_row1\" class=\"row_heading level0 row1\" >1</th>\n",
              "      <td id=\"T_38be3_row1_col0\" class=\"data row1 col0\" >Decision Tree</td>\n",
              "      <td id=\"T_38be3_row1_col1\" class=\"data row1 col1\" >0.858050</td>\n",
              "      <td id=\"T_38be3_row1_col2\" class=\"data row1 col2\" >0.858050</td>\n",
              "      <td id=\"T_38be3_row1_col3\" class=\"data row1 col3\" >0.763804</td>\n",
              "      <td id=\"T_38be3_row1_col4\" class=\"data row1 col4\" >0.690069</td>\n",
              "      <td id=\"T_38be3_row1_col5\" class=\"data row1 col5\" >0.732497</td>\n",
              "      <td id=\"T_38be3_row1_col6\" class=\"data row1 col6\" >0.823220</td>\n",
              "    </tr>\n",
              "    <tr>\n",
              "      <th id=\"T_38be3_level0_row2\" class=\"row_heading level0 row2\" >2</th>\n",
              "      <td id=\"T_38be3_row2_col0\" class=\"data row2 col0\" >XGBoost</td>\n",
              "      <td id=\"T_38be3_row2_col1\" class=\"data row2 col1\" >0.933785</td>\n",
              "      <td id=\"T_38be3_row2_col2\" class=\"data row2 col2\" >0.933785</td>\n",
              "      <td id=\"T_38be3_row2_col3\" class=\"data row2 col3\" >0.719836</td>\n",
              "      <td id=\"T_38be3_row2_col4\" class=\"data row2 col4\" >0.818129</td>\n",
              "      <td id=\"T_38be3_row2_col5\" class=\"data row2 col5\" >0.756176</td>\n",
              "      <td id=\"T_38be3_row2_col6\" class=\"data row2 col6\" >0.854717</td>\n",
              "    </tr>\n",
              "    <tr>\n",
              "      <th id=\"T_38be3_level0_row3\" class=\"row_heading level0 row3\" >3</th>\n",
              "      <td id=\"T_38be3_row3_col0\" class=\"data row3 col0\" >LightGBM</td>\n",
              "      <td id=\"T_38be3_row3_col1\" class=\"data row3 col1\" >0.934842</td>\n",
              "      <td id=\"T_38be3_row3_col2\" class=\"data row3 col2\" >0.934842</td>\n",
              "      <td id=\"T_38be3_row3_col3\" class=\"data row3 col3\" >0.712679</td>\n",
              "      <td id=\"T_38be3_row3_col4\" class=\"data row3 col4\" >0.819036</td>\n",
              "      <td id=\"T_38be3_row3_col5\" class=\"data row3 col5\" >0.751726</td>\n",
              "      <td id=\"T_38be3_row3_col6\" class=\"data row3 col6\" >0.852739</td>\n",
              "    </tr>\n",
              "  </tbody>\n",
              "</table>\n"
            ]
          },
          "metadata": {},
          "execution_count": 44
        }
      ]
    },
    {
      "cell_type": "markdown",
      "metadata": {
        "id": "Uykd59ZdaR_o"
      },
      "source": [
        "# SMOTE and Tomek"
      ]
    },
    {
      "cell_type": "code",
      "execution_count": 45,
      "metadata": {
        "id": "7UB547rtS58P"
      },
      "outputs": [],
      "source": [
        "# Setting SMOTETomek\n",
        "smt = SMOTETomek(random_state=42)\n",
        "\n",
        "# Split the data into test and train+validation\n",
        "X_train_temp, X_test, y_train_temp, y_test = train_test_split(X, y, test_size=0.15, random_state=42)\n",
        "\n",
        "# Applying SMOTETomek to the training set\n",
        "X_smt, y_smt = smt.fit_resample(X_train_temp, y_train_temp)\n",
        "\n",
        "# Split the data into train and validation\n",
        "X_train, X_val, y_train, y_val = train_test_split(X_smt, y_smt, test_size=0.5, random_state=42)\n",
        "\n",
        "# Now X_train and y_train contain the training data,\n",
        "# X_val and y_val contain the validation data, and\n",
        "# X_test and y_test contain the testing data."
      ]
    },
    {
      "cell_type": "code",
      "execution_count": 46,
      "metadata": {
        "colab": {
          "base_uri": "https://localhost:8080/"
        },
        "id": "wrQfQr0YPWs4",
        "outputId": "56972a20-f4ce-4d8e-d3cc-c2552cf0ae53"
      },
      "outputs": [
        {
          "output_type": "stream",
          "name": "stdout",
          "text": [
            "Training and evaluating Random Forest...\n"
          ]
        },
        {
          "output_type": "stream",
          "name": "stderr",
          "text": [
            "<ipython-input-46-863910d6c615>:25: FutureWarning: The frame.append method is deprecated and will be removed from pandas in a future version. Use pandas.concat instead.\n",
            "  results_val_df = results_val_df.append({'Model': model_name, 'Accuracy': accuracy_smt, 'Precision': precision_smt, 'Recall': recall_smt, 'F1 Score': f1_smt, 'F2 Score': f2_smt, 'AUC': auc_roc_smt}, ignore_index=True)\n",
            "<ipython-input-46-863910d6c615>:40: FutureWarning: The frame.append method is deprecated and will be removed from pandas in a future version. Use pandas.concat instead.\n",
            "  results_test_df = results_test_df.append({'Model': model_name, 'Accuracy': accuracy_test, 'Precision': accuracy_test, 'Recall': recall_test, 'F1 Score': f1_test, 'F2 Score': f2_test, 'AUC': auc_roc_test}, ignore_index=True)\n"
          ]
        },
        {
          "output_type": "stream",
          "name": "stdout",
          "text": [
            "Training and evaluating Decision Tree...\n",
            "Training and evaluating XGBoost...\n"
          ]
        },
        {
          "output_type": "stream",
          "name": "stderr",
          "text": [
            "<ipython-input-46-863910d6c615>:25: FutureWarning: The frame.append method is deprecated and will be removed from pandas in a future version. Use pandas.concat instead.\n",
            "  results_val_df = results_val_df.append({'Model': model_name, 'Accuracy': accuracy_smt, 'Precision': precision_smt, 'Recall': recall_smt, 'F1 Score': f1_smt, 'F2 Score': f2_smt, 'AUC': auc_roc_smt}, ignore_index=True)\n",
            "<ipython-input-46-863910d6c615>:40: FutureWarning: The frame.append method is deprecated and will be removed from pandas in a future version. Use pandas.concat instead.\n",
            "  results_test_df = results_test_df.append({'Model': model_name, 'Accuracy': accuracy_test, 'Precision': accuracy_test, 'Recall': recall_test, 'F1 Score': f1_test, 'F2 Score': f2_test, 'AUC': auc_roc_test}, ignore_index=True)\n",
            "<ipython-input-46-863910d6c615>:25: FutureWarning: The frame.append method is deprecated and will be removed from pandas in a future version. Use pandas.concat instead.\n",
            "  results_val_df = results_val_df.append({'Model': model_name, 'Accuracy': accuracy_smt, 'Precision': precision_smt, 'Recall': recall_smt, 'F1 Score': f1_smt, 'F2 Score': f2_smt, 'AUC': auc_roc_smt}, ignore_index=True)\n",
            "<ipython-input-46-863910d6c615>:40: FutureWarning: The frame.append method is deprecated and will be removed from pandas in a future version. Use pandas.concat instead.\n",
            "  results_test_df = results_test_df.append({'Model': model_name, 'Accuracy': accuracy_test, 'Precision': accuracy_test, 'Recall': recall_test, 'F1 Score': f1_test, 'F2 Score': f2_test, 'AUC': auc_roc_test}, ignore_index=True)\n"
          ]
        },
        {
          "output_type": "stream",
          "name": "stdout",
          "text": [
            "Training and evaluating LightGBM...\n",
            "[LightGBM] [Info] Number of positive: 10351, number of negative: 10367\n",
            "[LightGBM] [Info] Auto-choosing row-wise multi-threading, the overhead of testing was 0.000770 seconds.\n",
            "You can set `force_row_wise=true` to remove the overhead.\n",
            "And if memory is not enough, you can set `force_col_wise=true`.\n",
            "[LightGBM] [Info] Total Bins 1549\n",
            "[LightGBM] [Info] Number of data points in the train set: 20718, number of used features: 10\n",
            "[LightGBM] [Info] [binary:BoostFromScore]: pavg=0.499614 -> initscore=-0.001545\n",
            "[LightGBM] [Info] Start training from score -0.001545\n"
          ]
        },
        {
          "output_type": "stream",
          "name": "stderr",
          "text": [
            "<ipython-input-46-863910d6c615>:25: FutureWarning: The frame.append method is deprecated and will be removed from pandas in a future version. Use pandas.concat instead.\n",
            "  results_val_df = results_val_df.append({'Model': model_name, 'Accuracy': accuracy_smt, 'Precision': precision_smt, 'Recall': recall_smt, 'F1 Score': f1_smt, 'F2 Score': f2_smt, 'AUC': auc_roc_smt}, ignore_index=True)\n",
            "<ipython-input-46-863910d6c615>:40: FutureWarning: The frame.append method is deprecated and will be removed from pandas in a future version. Use pandas.concat instead.\n",
            "  results_test_df = results_test_df.append({'Model': model_name, 'Accuracy': accuracy_test, 'Precision': accuracy_test, 'Recall': recall_test, 'F1 Score': f1_test, 'F2 Score': f2_test, 'AUC': auc_roc_test}, ignore_index=True)\n"
          ]
        }
      ],
      "source": [
        "# Initialize a DataFrame to store the results\n",
        "results_val_df = pd.DataFrame(columns=['Model', 'Accuracy', 'Precision', 'Recall', 'F1 Score', 'F2 Score', 'AUC'])\n",
        "results_test_df = pd.DataFrame(columns=['Model', 'Accuracy', 'Precision', 'Recall', 'F1 Score', 'F2 Score', 'AUC'])\n",
        "\n",
        "# Train and evaluate each model\n",
        "for model_name, model in models.items():\n",
        "    print(f\"Training and evaluating {model_name}...\")\n",
        "\n",
        "    # Train the model\n",
        "    model.fit(X_train, y_train)\n",
        "\n",
        "    # Make predictions on the test set\n",
        "    y_pred_val = model.predict(X_val)\n",
        "\n",
        "    # Evaluate the model\n",
        "    accuracy_smt = accuracy_score(y_val, y_pred_val)\n",
        "    precision_smt = precision_score(y_val, y_pred_val)\n",
        "    recall_smt = recall_score(y_val, y_pred_val)\n",
        "    f1_smt = f1_score(y_val, y_pred_val)\n",
        "    f2_smt = fbeta_score(y_val, y_pred_val, beta=2)\n",
        "    auc_roc_smt = roc_auc_score(y_val, y_pred_val)\n",
        "\n",
        "\n",
        "    # Append the results to the DataFrame\n",
        "    results_val_df = results_val_df.append({'Model': model_name, 'Accuracy': accuracy_smt, 'Precision': precision_smt, 'Recall': recall_smt, 'F1 Score': f1_smt, 'F2 Score': f2_smt, 'AUC': auc_roc_smt}, ignore_index=True)\n",
        "\n",
        "    # Predicting values from the imbalanced X_test (i.e X_test without SMOTE)\n",
        "    y_pred_test = model.predict(X_test)\n",
        "\n",
        "    # Evaluate the model\n",
        "    accuracy_test = accuracy_score(y_test, y_pred_test)\n",
        "    precision_test = precision_score(y_test, y_pred_test)\n",
        "    recall_test = recall_score(y_test, y_pred_test)\n",
        "    f1_test = f1_score(y_test, y_pred_test)\n",
        "    f2_test = fbeta_score(y_test, y_pred_test, beta=2)\n",
        "    auc_roc_test = roc_auc_score(y_test, y_pred_test)\n",
        "\n",
        "\n",
        "    # Append the results to the DataFrame\n",
        "    results_test_df = results_test_df.append({'Model': model_name, 'Accuracy': accuracy_test, 'Precision': accuracy_test, 'Recall': recall_test, 'F1 Score': f1_test, 'F2 Score': f2_test, 'AUC': auc_roc_test}, ignore_index=True)\n",
        "\n",
        "#Higlight the best performers\n",
        "results_val_df = results_val_df.style.highlight_max(axis=0, color='yellow', subset=['Accuracy', 'Precision', 'Recall', 'F1 Score', 'F2 Score', 'AUC'])\n",
        "#Higlight the best performers\n",
        "results_test_df = results_test_df.style.highlight_max(axis=0, color='yellow', subset=['Accuracy', 'Precision', 'Recall', 'F1 Score', 'F2 Score', 'AUC'])"
      ]
    },
    {
      "cell_type": "code",
      "execution_count": 47,
      "metadata": {
        "colab": {
          "base_uri": "https://localhost:8080/",
          "height": 175
        },
        "id": "X8F1QQvEPWqO",
        "outputId": "dace342e-66f0-4f9c-8da3-edc26937f2e4"
      },
      "outputs": [
        {
          "output_type": "execute_result",
          "data": {
            "text/plain": [
              "<pandas.io.formats.style.Styler at 0x7f50d2420280>"
            ],
            "text/html": [
              "<style type=\"text/css\">\n",
              "#T_54718_row2_col1, #T_54718_row2_col3, #T_54718_row2_col4, #T_54718_row2_col5, #T_54718_row2_col6, #T_54718_row3_col2 {\n",
              "  background-color: yellow;\n",
              "}\n",
              "</style>\n",
              "<table id=\"T_54718\" class=\"dataframe\">\n",
              "  <thead>\n",
              "    <tr>\n",
              "      <th class=\"blank level0\" >&nbsp;</th>\n",
              "      <th id=\"T_54718_level0_col0\" class=\"col_heading level0 col0\" >Model</th>\n",
              "      <th id=\"T_54718_level0_col1\" class=\"col_heading level0 col1\" >Accuracy</th>\n",
              "      <th id=\"T_54718_level0_col2\" class=\"col_heading level0 col2\" >Precision</th>\n",
              "      <th id=\"T_54718_level0_col3\" class=\"col_heading level0 col3\" >Recall</th>\n",
              "      <th id=\"T_54718_level0_col4\" class=\"col_heading level0 col4\" >F1 Score</th>\n",
              "      <th id=\"T_54718_level0_col5\" class=\"col_heading level0 col5\" >F2 Score</th>\n",
              "      <th id=\"T_54718_level0_col6\" class=\"col_heading level0 col6\" >AUC</th>\n",
              "    </tr>\n",
              "  </thead>\n",
              "  <tbody>\n",
              "    <tr>\n",
              "      <th id=\"T_54718_level0_row0\" class=\"row_heading level0 row0\" >0</th>\n",
              "      <td id=\"T_54718_row0_col0\" class=\"data row0 col0\" >Random Forest</td>\n",
              "      <td id=\"T_54718_row0_col1\" class=\"data row0 col1\" >0.931605</td>\n",
              "      <td id=\"T_54718_row0_col2\" class=\"data row0 col2\" >0.968685</td>\n",
              "      <td id=\"T_54718_row0_col3\" class=\"data row0 col3\" >0.892158</td>\n",
              "      <td id=\"T_54718_row0_col4\" class=\"data row0 col4\" >0.928848</td>\n",
              "      <td id=\"T_54718_row0_col5\" class=\"data row0 col5\" >0.906480</td>\n",
              "      <td id=\"T_54718_row0_col6\" class=\"data row0 col6\" >0.931636</td>\n",
              "    </tr>\n",
              "    <tr>\n",
              "      <th id=\"T_54718_level0_row1\" class=\"row_heading level0 row1\" >1</th>\n",
              "      <td id=\"T_54718_row1_col0\" class=\"data row1 col0\" >Decision Tree</td>\n",
              "      <td id=\"T_54718_row1_col1\" class=\"data row1 col1\" >0.881842</td>\n",
              "      <td id=\"T_54718_row1_col2\" class=\"data row1 col2\" >0.879371</td>\n",
              "      <td id=\"T_54718_row1_col3\" class=\"data row1 col3\" >0.885309</td>\n",
              "      <td id=\"T_54718_row1_col4\" class=\"data row1 col4\" >0.882330</td>\n",
              "      <td id=\"T_54718_row1_col5\" class=\"data row1 col5\" >0.884115</td>\n",
              "      <td id=\"T_54718_row1_col6\" class=\"data row1 col6\" >0.881839</td>\n",
              "    </tr>\n",
              "    <tr>\n",
              "      <th id=\"T_54718_level0_row2\" class=\"row_heading level0 row2\" >2</th>\n",
              "      <td id=\"T_54718_row2_col0\" class=\"data row2 col0\" >XGBoost</td>\n",
              "      <td id=\"T_54718_row2_col1\" class=\"data row2 col1\" >0.951540</td>\n",
              "      <td id=\"T_54718_row2_col2\" class=\"data row2 col2\" >0.983876</td>\n",
              "      <td id=\"T_54718_row2_col3\" class=\"data row2 col3\" >0.918202</td>\n",
              "      <td id=\"T_54718_row2_col4\" class=\"data row2 col4\" >0.949905</td>\n",
              "      <td id=\"T_54718_row2_col5\" class=\"data row2 col5\" >0.930626</td>\n",
              "      <td id=\"T_54718_row2_col6\" class=\"data row2 col6\" >0.951565</td>\n",
              "    </tr>\n",
              "    <tr>\n",
              "      <th id=\"T_54718_level0_row3\" class=\"row_heading level0 row3\" >3</th>\n",
              "      <td id=\"T_54718_row3_col0\" class=\"data row3 col0\" >LightGBM</td>\n",
              "      <td id=\"T_54718_row3_col1\" class=\"data row3 col1\" >0.950767</td>\n",
              "      <td id=\"T_54718_row3_col2\" class=\"data row3 col2\" >0.988911</td>\n",
              "      <td id=\"T_54718_row3_col3\" class=\"data row3 col3\" >0.911836</td>\n",
              "      <td id=\"T_54718_row3_col4\" class=\"data row3 col4\" >0.948811</td>\n",
              "      <td id=\"T_54718_row3_col5\" class=\"data row3 col5\" >0.926274</td>\n",
              "      <td id=\"T_54718_row3_col6\" class=\"data row3 col6\" >0.950798</td>\n",
              "    </tr>\n",
              "  </tbody>\n",
              "</table>\n"
            ]
          },
          "metadata": {},
          "execution_count": 47
        }
      ],
      "source": [
        "results_val_df"
      ]
    },
    {
      "cell_type": "code",
      "source": [
        "results_test_df"
      ],
      "metadata": {
        "colab": {
          "base_uri": "https://localhost:8080/",
          "height": 175
        },
        "id": "HJBYNNjLK3nN",
        "outputId": "7f7ef8a6-721d-41ef-f113-a6808ce0f33a"
      },
      "execution_count": 48,
      "outputs": [
        {
          "output_type": "execute_result",
          "data": {
            "text/plain": [
              "<pandas.io.formats.style.Styler at 0x7f507c4a8670>"
            ],
            "text/html": [
              "<style type=\"text/css\">\n",
              "#T_12aad_row1_col3, #T_12aad_row2_col4, #T_12aad_row2_col5, #T_12aad_row2_col6, #T_12aad_row3_col1, #T_12aad_row3_col2 {\n",
              "  background-color: yellow;\n",
              "}\n",
              "</style>\n",
              "<table id=\"T_12aad\" class=\"dataframe\">\n",
              "  <thead>\n",
              "    <tr>\n",
              "      <th class=\"blank level0\" >&nbsp;</th>\n",
              "      <th id=\"T_12aad_level0_col0\" class=\"col_heading level0 col0\" >Model</th>\n",
              "      <th id=\"T_12aad_level0_col1\" class=\"col_heading level0 col1\" >Accuracy</th>\n",
              "      <th id=\"T_12aad_level0_col2\" class=\"col_heading level0 col2\" >Precision</th>\n",
              "      <th id=\"T_12aad_level0_col3\" class=\"col_heading level0 col3\" >Recall</th>\n",
              "      <th id=\"T_12aad_level0_col4\" class=\"col_heading level0 col4\" >F1 Score</th>\n",
              "      <th id=\"T_12aad_level0_col5\" class=\"col_heading level0 col5\" >F2 Score</th>\n",
              "      <th id=\"T_12aad_level0_col6\" class=\"col_heading level0 col6\" >AUC</th>\n",
              "    </tr>\n",
              "  </thead>\n",
              "  <tbody>\n",
              "    <tr>\n",
              "      <th id=\"T_12aad_level0_row0\" class=\"row_heading level0 row0\" >0</th>\n",
              "      <td id=\"T_12aad_row0_col0\" class=\"data row0 col0\" >Random Forest</td>\n",
              "      <td id=\"T_12aad_row0_col1\" class=\"data row0 col1\" >0.914110</td>\n",
              "      <td id=\"T_12aad_row0_col2\" class=\"data row0 col2\" >0.914110</td>\n",
              "      <td id=\"T_12aad_row0_col3\" class=\"data row0 col3\" >0.722904</td>\n",
              "      <td id=\"T_12aad_row0_col4\" class=\"data row0 col4\" >0.776923</td>\n",
              "      <td id=\"T_12aad_row0_col5\" class=\"data row0 col5\" >0.743584</td>\n",
              "      <td id=\"T_12aad_row0_col6\" class=\"data row0 col6\" >0.843447</td>\n",
              "    </tr>\n",
              "    <tr>\n",
              "      <th id=\"T_12aad_level0_row1\" class=\"row_heading level0 row1\" >1</th>\n",
              "      <td id=\"T_12aad_row1_col0\" class=\"data row1 col0\" >Decision Tree</td>\n",
              "      <td id=\"T_12aad_row1_col1\" class=\"data row1 col1\" >0.830548</td>\n",
              "      <td id=\"T_12aad_row1_col2\" class=\"data row1 col2\" >0.830548</td>\n",
              "      <td id=\"T_12aad_row1_col3\" class=\"data row1 col3\" >0.753579</td>\n",
              "      <td id=\"T_12aad_row1_col4\" class=\"data row1 col4\" >0.647912</td>\n",
              "      <td id=\"T_12aad_row1_col5\" class=\"data row1 col5\" >0.707429</td>\n",
              "      <td id=\"T_12aad_row1_col6\" class=\"data row1 col6\" >0.802103</td>\n",
              "    </tr>\n",
              "    <tr>\n",
              "      <th id=\"T_12aad_level0_row2\" class=\"row_heading level0 row2\" >2</th>\n",
              "      <td id=\"T_12aad_row2_col0\" class=\"data row2 col0\" >XGBoost</td>\n",
              "      <td id=\"T_12aad_row2_col1\" class=\"data row2 col1\" >0.931034</td>\n",
              "      <td id=\"T_12aad_row2_col2\" class=\"data row2 col2\" >0.931034</td>\n",
              "      <td id=\"T_12aad_row2_col3\" class=\"data row2 col3\" >0.728016</td>\n",
              "      <td id=\"T_12aad_row2_col4\" class=\"data row2 col4\" >0.813714</td>\n",
              "      <td id=\"T_12aad_row2_col5\" class=\"data row2 col5\" >0.760034</td>\n",
              "      <td id=\"T_12aad_row2_col6\" class=\"data row2 col6\" >0.856006</td>\n",
              "    </tr>\n",
              "    <tr>\n",
              "      <th id=\"T_12aad_level0_row3\" class=\"row_heading level0 row3\" >3</th>\n",
              "      <td id=\"T_12aad_row3_col0\" class=\"data row3 col0\" >LightGBM</td>\n",
              "      <td id=\"T_12aad_row3_col1\" class=\"data row3 col1\" >0.931881</td>\n",
              "      <td id=\"T_12aad_row3_col2\" class=\"data row3 col2\" >0.931881</td>\n",
              "      <td id=\"T_12aad_row3_col3\" class=\"data row3 col3\" >0.710634</td>\n",
              "      <td id=\"T_12aad_row3_col4\" class=\"data row3 col4\" >0.811916</td>\n",
              "      <td id=\"T_12aad_row3_col5\" class=\"data row3 col5\" >0.747955</td>\n",
              "      <td id=\"T_12aad_row3_col6\" class=\"data row3 col6\" >0.850116</td>\n",
              "    </tr>\n",
              "  </tbody>\n",
              "</table>\n"
            ]
          },
          "metadata": {},
          "execution_count": 48
        }
      ]
    },
    {
      "cell_type": "markdown",
      "metadata": {
        "id": "9BTrxzh73Jmf"
      },
      "source": [
        "# SMOTE + ENN Algorithm"
      ]
    },
    {
      "cell_type": "markdown",
      "metadata": {
        "id": "u9-sp3-74-rl"
      },
      "source": [
        "https://www.analyticsvidhya.com/blog/2020/10/overcoming-class-imbalance-using-smote-techniques/"
      ]
    },
    {
      "cell_type": "code",
      "execution_count": 51,
      "metadata": {
        "id": "QaBXi2D33N7a"
      },
      "outputs": [],
      "source": [
        "#Setting SMOTEENN\n",
        "smenn = SMOTEENN(random_state=42)\n",
        "\n",
        "# Split the data into test and train+validation\n",
        "X_train_temp, X_test, y_train_temp, y_test = train_test_split(X, y, test_size=0.15, random_state=42)\n",
        "\n",
        "# Applying SMOTETomek to the training set\n",
        "X_smenn, y_smenn = smenn.fit_resample(X_train_temp, y_train_temp)\n",
        "\n",
        "# Split the data into train and validation\n",
        "X_train, X_val, y_train, y_val = train_test_split(X_smenn, y_smenn, test_size=0.5, random_state=42)\n",
        "\n",
        "# Now X_train and y_train contain the training data,\n",
        "# X_val and y_val contain the validation data, and\n",
        "# X_test and y_test contain the testing data."
      ]
    },
    {
      "cell_type": "code",
      "execution_count": 52,
      "metadata": {
        "colab": {
          "base_uri": "https://localhost:8080/"
        },
        "id": "eSAo91r_3N0M",
        "outputId": "94ca0bcb-cd41-4971-e47c-602f87fc2775"
      },
      "outputs": [
        {
          "output_type": "stream",
          "name": "stdout",
          "text": [
            "Training and evaluating Random Forest...\n"
          ]
        },
        {
          "output_type": "stream",
          "name": "stderr",
          "text": [
            "<ipython-input-52-5f13e08637ba>:25: FutureWarning: The frame.append method is deprecated and will be removed from pandas in a future version. Use pandas.concat instead.\n",
            "  results_val_df = results_val_df.append({'Model': model_name, 'Accuracy': accuracy_smenn, 'Precision': precision_smenn, 'Recall': recall_smenn, 'F1 Score': f1_smenn, 'F2 Score': f2_smenn, 'AUC': auc_roc_smenn}, ignore_index=True)\n",
            "<ipython-input-52-5f13e08637ba>:40: FutureWarning: The frame.append method is deprecated and will be removed from pandas in a future version. Use pandas.concat instead.\n",
            "  results_test_df = results_test_df.append({'Model': model_name, 'Accuracy': accuracy_test, 'Precision': accuracy_test, 'Recall': recall_test, 'F1 Score': f1_test, 'F2 Score': f2_test, 'AUC': auc_roc_test}, ignore_index=True)\n"
          ]
        },
        {
          "output_type": "stream",
          "name": "stdout",
          "text": [
            "Training and evaluating Decision Tree...\n"
          ]
        },
        {
          "output_type": "stream",
          "name": "stderr",
          "text": [
            "<ipython-input-52-5f13e08637ba>:25: FutureWarning: The frame.append method is deprecated and will be removed from pandas in a future version. Use pandas.concat instead.\n",
            "  results_val_df = results_val_df.append({'Model': model_name, 'Accuracy': accuracy_smenn, 'Precision': precision_smenn, 'Recall': recall_smenn, 'F1 Score': f1_smenn, 'F2 Score': f2_smenn, 'AUC': auc_roc_smenn}, ignore_index=True)\n",
            "<ipython-input-52-5f13e08637ba>:40: FutureWarning: The frame.append method is deprecated and will be removed from pandas in a future version. Use pandas.concat instead.\n",
            "  results_test_df = results_test_df.append({'Model': model_name, 'Accuracy': accuracy_test, 'Precision': accuracy_test, 'Recall': recall_test, 'F1 Score': f1_test, 'F2 Score': f2_test, 'AUC': auc_roc_test}, ignore_index=True)\n"
          ]
        },
        {
          "output_type": "stream",
          "name": "stdout",
          "text": [
            "Training and evaluating XGBoost...\n"
          ]
        },
        {
          "output_type": "stream",
          "name": "stderr",
          "text": [
            "<ipython-input-52-5f13e08637ba>:25: FutureWarning: The frame.append method is deprecated and will be removed from pandas in a future version. Use pandas.concat instead.\n",
            "  results_val_df = results_val_df.append({'Model': model_name, 'Accuracy': accuracy_smenn, 'Precision': precision_smenn, 'Recall': recall_smenn, 'F1 Score': f1_smenn, 'F2 Score': f2_smenn, 'AUC': auc_roc_smenn}, ignore_index=True)\n",
            "<ipython-input-52-5f13e08637ba>:40: FutureWarning: The frame.append method is deprecated and will be removed from pandas in a future version. Use pandas.concat instead.\n",
            "  results_test_df = results_test_df.append({'Model': model_name, 'Accuracy': accuracy_test, 'Precision': accuracy_test, 'Recall': recall_test, 'F1 Score': f1_test, 'F2 Score': f2_test, 'AUC': auc_roc_test}, ignore_index=True)\n"
          ]
        },
        {
          "output_type": "stream",
          "name": "stdout",
          "text": [
            "Training and evaluating LightGBM...\n",
            "[LightGBM] [Info] Number of positive: 9270, number of negative: 7496\n",
            "[LightGBM] [Info] Auto-choosing row-wise multi-threading, the overhead of testing was 0.002022 seconds.\n",
            "You can set `force_row_wise=true` to remove the overhead.\n",
            "And if memory is not enough, you can set `force_col_wise=true`.\n",
            "[LightGBM] [Info] Total Bins 1549\n",
            "[LightGBM] [Info] Number of data points in the train set: 16766, number of used features: 10\n",
            "[LightGBM] [Info] [binary:BoostFromScore]: pavg=0.552905 -> initscore=0.212414\n",
            "[LightGBM] [Info] Start training from score 0.212414\n"
          ]
        },
        {
          "output_type": "stream",
          "name": "stderr",
          "text": [
            "<ipython-input-52-5f13e08637ba>:25: FutureWarning: The frame.append method is deprecated and will be removed from pandas in a future version. Use pandas.concat instead.\n",
            "  results_val_df = results_val_df.append({'Model': model_name, 'Accuracy': accuracy_smenn, 'Precision': precision_smenn, 'Recall': recall_smenn, 'F1 Score': f1_smenn, 'F2 Score': f2_smenn, 'AUC': auc_roc_smenn}, ignore_index=True)\n",
            "<ipython-input-52-5f13e08637ba>:40: FutureWarning: The frame.append method is deprecated and will be removed from pandas in a future version. Use pandas.concat instead.\n",
            "  results_test_df = results_test_df.append({'Model': model_name, 'Accuracy': accuracy_test, 'Precision': accuracy_test, 'Recall': recall_test, 'F1 Score': f1_test, 'F2 Score': f2_test, 'AUC': auc_roc_test}, ignore_index=True)\n"
          ]
        }
      ],
      "source": [
        "# Initialize a DataFrame to store the results\n",
        "results_val_df = pd.DataFrame(columns=['Model', 'Accuracy', 'Precision', 'Recall', 'F1 Score', 'F2 Score', 'AUC'])\n",
        "results_test_df = pd.DataFrame(columns=['Model', 'Accuracy', 'Precision', 'Recall', 'F1 Score', 'F2 Score', 'AUC'])\n",
        "\n",
        "# Train and evaluate each model\n",
        "for model_name, model in models.items():\n",
        "    print(f\"Training and evaluating {model_name}...\")\n",
        "\n",
        "    # Train the model\n",
        "    model.fit(X_train, y_train)\n",
        "\n",
        "    # Make predictions on the test set\n",
        "    y_pred_val = model.predict(X_val)\n",
        "\n",
        "    # Evaluate the model\n",
        "    accuracy_smenn = accuracy_score(y_val, y_pred_val)\n",
        "    precision_smenn = precision_score(y_val, y_pred_val)\n",
        "    recall_smenn = recall_score(y_val, y_pred_val)\n",
        "    f1_smenn = f1_score(y_val, y_pred_val)\n",
        "    f2_smenn = fbeta_score(y_val, y_pred_val, beta=2)\n",
        "    auc_roc_smenn = roc_auc_score(y_val, y_pred_val)\n",
        "\n",
        "\n",
        "    # Append the results to the DataFrame\n",
        "    results_val_df = results_val_df.append({'Model': model_name, 'Accuracy': accuracy_smenn, 'Precision': precision_smenn, 'Recall': recall_smenn, 'F1 Score': f1_smenn, 'F2 Score': f2_smenn, 'AUC': auc_roc_smenn}, ignore_index=True)\n",
        "\n",
        "    # Predicting values from the imbalanced X_test (i.e X_test without SMOTE)\n",
        "    y_pred_test = model.predict(X_test)\n",
        "\n",
        "    # Evaluate the model\n",
        "    accuracy_test = accuracy_score(y_test, y_pred_test)\n",
        "    precision_test = precision_score(y_test, y_pred_test)\n",
        "    recall_test = recall_score(y_test, y_pred_test)\n",
        "    f1_test = f1_score(y_test, y_pred_test)\n",
        "    f2_test = fbeta_score(y_test, y_pred_test, beta=2)\n",
        "    auc_roc_test = roc_auc_score(y_test, y_pred_test)\n",
        "\n",
        "\n",
        "    # Append the results to the DataFrame\n",
        "    results_test_df = results_test_df.append({'Model': model_name, 'Accuracy': accuracy_test, 'Precision': accuracy_test, 'Recall': recall_test, 'F1 Score': f1_test, 'F2 Score': f2_test, 'AUC': auc_roc_test}, ignore_index=True)\n",
        "\n",
        "#Higlight the best performers\n",
        "results_val_df = results_val_df.style.highlight_max(axis=0, color='yellow', subset=['Accuracy', 'Precision', 'Recall', 'F1 Score', 'F2 Score', 'AUC'])\n",
        "#Higlight the best performers\n",
        "results_test_df = results_test_df.style.highlight_max(axis=0, color='yellow', subset=['Accuracy', 'Precision', 'Recall', 'F1 Score', 'F2 Score', 'AUC'])"
      ]
    },
    {
      "cell_type": "code",
      "execution_count": 53,
      "metadata": {
        "colab": {
          "base_uri": "https://localhost:8080/",
          "height": 175
        },
        "id": "kY54Hh7t3Nvy",
        "outputId": "f98928ea-dad9-415f-d2ca-a929cffeb1d5"
      },
      "outputs": [
        {
          "output_type": "execute_result",
          "data": {
            "text/plain": [
              "<pandas.io.formats.style.Styler at 0x7f507c707b50>"
            ],
            "text/html": [
              "<style type=\"text/css\">\n",
              "#T_a901d_row2_col1, #T_a901d_row2_col2, #T_a901d_row2_col3, #T_a901d_row2_col4, #T_a901d_row2_col5, #T_a901d_row2_col6 {\n",
              "  background-color: yellow;\n",
              "}\n",
              "</style>\n",
              "<table id=\"T_a901d\" class=\"dataframe\">\n",
              "  <thead>\n",
              "    <tr>\n",
              "      <th class=\"blank level0\" >&nbsp;</th>\n",
              "      <th id=\"T_a901d_level0_col0\" class=\"col_heading level0 col0\" >Model</th>\n",
              "      <th id=\"T_a901d_level0_col1\" class=\"col_heading level0 col1\" >Accuracy</th>\n",
              "      <th id=\"T_a901d_level0_col2\" class=\"col_heading level0 col2\" >Precision</th>\n",
              "      <th id=\"T_a901d_level0_col3\" class=\"col_heading level0 col3\" >Recall</th>\n",
              "      <th id=\"T_a901d_level0_col4\" class=\"col_heading level0 col4\" >F1 Score</th>\n",
              "      <th id=\"T_a901d_level0_col5\" class=\"col_heading level0 col5\" >F2 Score</th>\n",
              "      <th id=\"T_a901d_level0_col6\" class=\"col_heading level0 col6\" >AUC</th>\n",
              "    </tr>\n",
              "  </thead>\n",
              "  <tbody>\n",
              "    <tr>\n",
              "      <th id=\"T_a901d_level0_row0\" class=\"row_heading level0 row0\" >0</th>\n",
              "      <td id=\"T_a901d_row0_col0\" class=\"data row0 col0\" >Random Forest</td>\n",
              "      <td id=\"T_a901d_row0_col1\" class=\"data row0 col1\" >0.954494</td>\n",
              "      <td id=\"T_a901d_row0_col2\" class=\"data row0 col2\" >0.974728</td>\n",
              "      <td id=\"T_a901d_row0_col3\" class=\"data row0 col3\" >0.940926</td>\n",
              "      <td id=\"T_a901d_row0_col4\" class=\"data row0 col4\" >0.957529</td>\n",
              "      <td id=\"T_a901d_row0_col5\" class=\"data row0 col5\" >0.947497</td>\n",
              "      <td id=\"T_a901d_row0_col6\" class=\"data row0 col6\" >0.955842</td>\n",
              "    </tr>\n",
              "    <tr>\n",
              "      <th id=\"T_a901d_level0_row1\" class=\"row_heading level0 row1\" >1</th>\n",
              "      <td id=\"T_a901d_row1_col0\" class=\"data row1 col0\" >Decision Tree</td>\n",
              "      <td id=\"T_a901d_row1_col1\" class=\"data row1 col1\" >0.922347</td>\n",
              "      <td id=\"T_a901d_row1_col2\" class=\"data row1 col2\" >0.930289</td>\n",
              "      <td id=\"T_a901d_row1_col3\" class=\"data row1 col3\" >0.927032</td>\n",
              "      <td id=\"T_a901d_row1_col4\" class=\"data row1 col4\" >0.928658</td>\n",
              "      <td id=\"T_a901d_row1_col5\" class=\"data row1 col5\" >0.927682</td>\n",
              "      <td id=\"T_a901d_row1_col6\" class=\"data row1 col6\" >0.921882</td>\n",
              "    </tr>\n",
              "    <tr>\n",
              "      <th id=\"T_a901d_level0_row2\" class=\"row_heading level0 row2\" >2</th>\n",
              "      <td id=\"T_a901d_row2_col0\" class=\"data row2 col0\" >XGBoost</td>\n",
              "      <td id=\"T_a901d_row2_col1\" class=\"data row2 col1\" >0.970001</td>\n",
              "      <td id=\"T_a901d_row2_col2\" class=\"data row2 col2\" >0.988575</td>\n",
              "      <td id=\"T_a901d_row2_col3\" class=\"data row2 col3\" >0.956022</td>\n",
              "      <td id=\"T_a901d_row2_col4\" class=\"data row2 col4\" >0.972026</td>\n",
              "      <td id=\"T_a901d_row2_col5\" class=\"data row2 col5\" >0.962360</td>\n",
              "      <td id=\"T_a901d_row2_col6\" class=\"data row2 col6\" >0.971389</td>\n",
              "    </tr>\n",
              "    <tr>\n",
              "      <th id=\"T_a901d_level0_row3\" class=\"row_heading level0 row3\" >3</th>\n",
              "      <td id=\"T_a901d_row3_col0\" class=\"data row3 col0\" >LightGBM</td>\n",
              "      <td id=\"T_a901d_row3_col1\" class=\"data row3 col1\" >0.965706</td>\n",
              "      <td id=\"T_a901d_row3_col2\" class=\"data row3 col2\" >0.987258</td>\n",
              "      <td id=\"T_a901d_row3_col3\" class=\"data row3 col3\" >0.949349</td>\n",
              "      <td id=\"T_a901d_row3_col4\" class=\"data row3 col4\" >0.967933</td>\n",
              "      <td id=\"T_a901d_row3_col5\" class=\"data row3 col5\" >0.956696</td>\n",
              "      <td id=\"T_a901d_row3_col6\" class=\"data row3 col6\" >0.967331</td>\n",
              "    </tr>\n",
              "  </tbody>\n",
              "</table>\n"
            ]
          },
          "metadata": {},
          "execution_count": 53
        }
      ],
      "source": [
        "results_val_df"
      ]
    },
    {
      "cell_type": "code",
      "source": [
        "results_test_df"
      ],
      "metadata": {
        "colab": {
          "base_uri": "https://localhost:8080/",
          "height": 175
        },
        "id": "JghMIrKDN6sP",
        "outputId": "3d4b8fcc-688b-4a27-ea44-a1af9d30670c"
      },
      "execution_count": 54,
      "outputs": [
        {
          "output_type": "execute_result",
          "data": {
            "text/plain": [
              "<pandas.io.formats.style.Styler at 0x7f5080a07550>"
            ],
            "text/html": [
              "<style type=\"text/css\">\n",
              "#T_8cdc7_row1_col3, #T_8cdc7_row2_col1, #T_8cdc7_row2_col2, #T_8cdc7_row2_col4, #T_8cdc7_row2_col5, #T_8cdc7_row2_col6 {\n",
              "  background-color: yellow;\n",
              "}\n",
              "</style>\n",
              "<table id=\"T_8cdc7\" class=\"dataframe\">\n",
              "  <thead>\n",
              "    <tr>\n",
              "      <th class=\"blank level0\" >&nbsp;</th>\n",
              "      <th id=\"T_8cdc7_level0_col0\" class=\"col_heading level0 col0\" >Model</th>\n",
              "      <th id=\"T_8cdc7_level0_col1\" class=\"col_heading level0 col1\" >Accuracy</th>\n",
              "      <th id=\"T_8cdc7_level0_col2\" class=\"col_heading level0 col2\" >Precision</th>\n",
              "      <th id=\"T_8cdc7_level0_col3\" class=\"col_heading level0 col3\" >Recall</th>\n",
              "      <th id=\"T_8cdc7_level0_col4\" class=\"col_heading level0 col4\" >F1 Score</th>\n",
              "      <th id=\"T_8cdc7_level0_col5\" class=\"col_heading level0 col5\" >F2 Score</th>\n",
              "      <th id=\"T_8cdc7_level0_col6\" class=\"col_heading level0 col6\" >AUC</th>\n",
              "    </tr>\n",
              "  </thead>\n",
              "  <tbody>\n",
              "    <tr>\n",
              "      <th id=\"T_8cdc7_level0_row0\" class=\"row_heading level0 row0\" >0</th>\n",
              "      <td id=\"T_8cdc7_row0_col0\" class=\"data row0 col0\" >Random Forest</td>\n",
              "      <td id=\"T_8cdc7_row0_col1\" class=\"data row0 col1\" >0.873281</td>\n",
              "      <td id=\"T_8cdc7_row0_col2\" class=\"data row0 col2\" >0.873281</td>\n",
              "      <td id=\"T_8cdc7_row0_col3\" class=\"data row0 col3\" >0.767894</td>\n",
              "      <td id=\"T_8cdc7_row0_col4\" class=\"data row0 col4\" >0.714898</td>\n",
              "      <td id=\"T_8cdc7_row0_col5\" class=\"data row0 col5\" >0.745780</td>\n",
              "      <td id=\"T_8cdc7_row0_col6\" class=\"data row0 col6\" >0.834334</td>\n",
              "    </tr>\n",
              "    <tr>\n",
              "      <th id=\"T_8cdc7_level0_row1\" class=\"row_heading level0 row1\" >1</th>\n",
              "      <td id=\"T_8cdc7_row1_col0\" class=\"data row1 col0\" >Decision Tree</td>\n",
              "      <td id=\"T_8cdc7_row1_col1\" class=\"data row1 col1\" >0.835202</td>\n",
              "      <td id=\"T_8cdc7_row1_col2\" class=\"data row1 col2\" >0.835202</td>\n",
              "      <td id=\"T_8cdc7_row1_col3\" class=\"data row1 col3\" >0.776074</td>\n",
              "      <td id=\"T_8cdc7_row1_col4\" class=\"data row1 col4\" >0.660862</td>\n",
              "      <td id=\"T_8cdc7_row1_col5\" class=\"data row1 col5\" >0.725483</td>\n",
              "      <td id=\"T_8cdc7_row1_col6\" class=\"data row1 col6\" >0.813350</td>\n",
              "    </tr>\n",
              "    <tr>\n",
              "      <th id=\"T_8cdc7_level0_row2\" class=\"row_heading level0 row2\" >2</th>\n",
              "      <td id=\"T_8cdc7_row2_col0\" class=\"data row2 col0\" >XGBoost</td>\n",
              "      <td id=\"T_8cdc7_row2_col1\" class=\"data row2 col1\" >0.908822</td>\n",
              "      <td id=\"T_8cdc7_row2_col2\" class=\"data row2 col2\" >0.908822</td>\n",
              "      <td id=\"T_8cdc7_row2_col3\" class=\"data row2 col3\" >0.749489</td>\n",
              "      <td id=\"T_8cdc7_row2_col4\" class=\"data row2 col4\" >0.772799</td>\n",
              "      <td id=\"T_8cdc7_row2_col5\" class=\"data row2 col5\" >0.758642</td>\n",
              "      <td id=\"T_8cdc7_row2_col6\" class=\"data row2 col6\" >0.849938</td>\n",
              "    </tr>\n",
              "    <tr>\n",
              "      <th id=\"T_8cdc7_level0_row3\" class=\"row_heading level0 row3\" >3</th>\n",
              "      <td id=\"T_8cdc7_row3_col0\" class=\"data row3 col0\" >LightGBM</td>\n",
              "      <td id=\"T_8cdc7_row3_col1\" class=\"data row3 col1\" >0.904591</td>\n",
              "      <td id=\"T_8cdc7_row3_col2\" class=\"data row3 col2\" >0.904591</td>\n",
              "      <td id=\"T_8cdc7_row3_col3\" class=\"data row3 col3\" >0.733129</td>\n",
              "      <td id=\"T_8cdc7_row3_col4\" class=\"data row3 col4\" >0.760743</td>\n",
              "      <td id=\"T_8cdc7_row3_col5\" class=\"data row3 col5\" >0.743930</td>\n",
              "      <td id=\"T_8cdc7_row3_col6\" class=\"data row3 col6\" >0.841224</td>\n",
              "    </tr>\n",
              "  </tbody>\n",
              "</table>\n"
            ]
          },
          "metadata": {},
          "execution_count": 54
        }
      ]
    },
    {
      "cell_type": "markdown",
      "metadata": {
        "id": "8PAbU094r3nc"
      },
      "source": [
        "#Neighborhood Cleaning Rule"
      ]
    },
    {
      "cell_type": "code",
      "execution_count": 57,
      "metadata": {
        "id": "mfeS9KObr7kb"
      },
      "outputs": [],
      "source": [
        "# define the undersampling method\n",
        "undersample = NeighbourhoodCleaningRule(n_neighbors=3, threshold_cleaning=0.5)\n",
        "\n",
        "#Applying smote to training set\n",
        "X_smote, y_smote = undersample.fit_resample(X, y)\n",
        "\n",
        "# Split the data into training and testing sets\n",
        "X_train_smote, X_test_smote, y_train_smote, y_test_smote = train_test_split(X_smote, y_smote, test_size=0.3, random_state=42)"
      ]
    },
    {
      "cell_type": "code",
      "execution_count": 58,
      "metadata": {
        "colab": {
          "base_uri": "https://localhost:8080/"
        },
        "id": "Plk6qHc3r8Gb",
        "outputId": "d5c84458-c28a-4d5f-887d-2ef6f47768e0"
      },
      "outputs": [
        {
          "output_type": "stream",
          "name": "stdout",
          "text": [
            "Training and evaluating Random Forest...\n"
          ]
        },
        {
          "output_type": "stream",
          "name": "stderr",
          "text": [
            "<ipython-input-58-7987ee602b69>:21: FutureWarning: The frame.append method is deprecated and will be removed from pandas in a future version. Use pandas.concat instead.\n",
            "  results_smote_df = results_smote_df.append({'Model': model_name, 'Accuracy': accuracy_smote, 'Recall': recall_smote, 'F1 Score': f1_smote, 'F2 Score': f2_smote}, ignore_index=True)\n",
            "<ipython-input-58-7987ee602b69>:21: FutureWarning: The frame.append method is deprecated and will be removed from pandas in a future version. Use pandas.concat instead.\n",
            "  results_smote_df = results_smote_df.append({'Model': model_name, 'Accuracy': accuracy_smote, 'Recall': recall_smote, 'F1 Score': f1_smote, 'F2 Score': f2_smote}, ignore_index=True)\n"
          ]
        },
        {
          "output_type": "stream",
          "name": "stdout",
          "text": [
            "Training and evaluating Decision Tree...\n",
            "Training and evaluating XGBoost...\n"
          ]
        },
        {
          "output_type": "stream",
          "name": "stderr",
          "text": [
            "<ipython-input-58-7987ee602b69>:21: FutureWarning: The frame.append method is deprecated and will be removed from pandas in a future version. Use pandas.concat instead.\n",
            "  results_smote_df = results_smote_df.append({'Model': model_name, 'Accuracy': accuracy_smote, 'Recall': recall_smote, 'F1 Score': f1_smote, 'F2 Score': f2_smote}, ignore_index=True)\n"
          ]
        },
        {
          "output_type": "stream",
          "name": "stdout",
          "text": [
            "Training and evaluating LightGBM...\n",
            "[LightGBM] [Info] Number of positive: 4756, number of negative: 13206\n",
            "[LightGBM] [Info] Auto-choosing row-wise multi-threading, the overhead of testing was 0.000686 seconds.\n",
            "You can set `force_row_wise=true` to remove the overhead.\n",
            "And if memory is not enough, you can set `force_col_wise=true`.\n",
            "[LightGBM] [Info] Total Bins 698\n",
            "[LightGBM] [Info] Number of data points in the train set: 17962, number of used features: 10\n",
            "[LightGBM] [Info] [binary:BoostFromScore]: pavg=0.264781 -> initscore=-1.021264\n",
            "[LightGBM] [Info] Start training from score -1.021264\n"
          ]
        },
        {
          "output_type": "stream",
          "name": "stderr",
          "text": [
            "<ipython-input-58-7987ee602b69>:21: FutureWarning: The frame.append method is deprecated and will be removed from pandas in a future version. Use pandas.concat instead.\n",
            "  results_smote_df = results_smote_df.append({'Model': model_name, 'Accuracy': accuracy_smote, 'Recall': recall_smote, 'F1 Score': f1_smote, 'F2 Score': f2_smote}, ignore_index=True)\n"
          ]
        }
      ],
      "source": [
        "# Initialize a DataFrame to store the results\n",
        "results_smote_df = pd.DataFrame(columns=['Model', 'Accuracy', 'Recall', 'F1 Score', 'F2 Score'])\n",
        "\n",
        "# Train and evaluate each model\n",
        "for model_name, model in models.items():\n",
        "    print(f\"Training and evaluating {model_name}...\")\n",
        "\n",
        "    # Train the model\n",
        "    model.fit(X_train_smote, y_train_smote)\n",
        "\n",
        "    # Make predictions on the test set\n",
        "    y_pred_smote = model.predict(X_test_smote)\n",
        "\n",
        "    # Evaluate the model\n",
        "    accuracy_smote = accuracy_score(y_test_smote, y_pred_smote)\n",
        "    recall_smote = recall_score(y_test_smote, y_pred_smote)\n",
        "    f1_smote = f1_score(y_test_smote, y_pred_smote)\n",
        "    f2_smote = fbeta_score(y_test_smote, y_pred_smote, beta=2)\n",
        "\n",
        "    # Append the results to the DataFrame\n",
        "    results_smote_df = results_smote_df.append({'Model': model_name, 'Accuracy': accuracy_smote, 'Recall': recall_smote, 'F1 Score': f1_smote, 'F2 Score': f2_smote}, ignore_index=True)"
      ]
    },
    {
      "cell_type": "code",
      "execution_count": null,
      "metadata": {
        "colab": {
          "base_uri": "https://localhost:8080/",
          "height": 210
        },
        "id": "5mebmm9Zr8El",
        "outputId": "85ac8e52-a636-428b-994c-5dc9ec3001db"
      },
      "outputs": [
        {
          "name": "stdout",
          "output_type": "stream",
          "text": [
            "\n",
            "Results:\n"
          ]
        },
        {
          "data": {
            "text/html": [
              "<style type=\"text/css\">\n",
              "#T_ee34a_row1_col2, #T_ee34a_row2_col3, #T_ee34a_row2_col4, #T_ee34a_row3_col1 {\n",
              "  background-color: yellow;\n",
              "}\n",
              "</style>\n",
              "<table id=\"T_ee34a\" class=\"dataframe\">\n",
              "  <thead>\n",
              "    <tr>\n",
              "      <th class=\"blank level0\" >&nbsp;</th>\n",
              "      <th id=\"T_ee34a_level0_col0\" class=\"col_heading level0 col0\" >Model</th>\n",
              "      <th id=\"T_ee34a_level0_col1\" class=\"col_heading level0 col1\" >Accuracy</th>\n",
              "      <th id=\"T_ee34a_level0_col2\" class=\"col_heading level0 col2\" >Recall</th>\n",
              "      <th id=\"T_ee34a_level0_col3\" class=\"col_heading level0 col3\" >F1 Score</th>\n",
              "      <th id=\"T_ee34a_level0_col4\" class=\"col_heading level0 col4\" >F2 Score</th>\n",
              "    </tr>\n",
              "  </thead>\n",
              "  <tbody>\n",
              "    <tr>\n",
              "      <th id=\"T_ee34a_level0_row0\" class=\"row_heading level0 row0\" >0</th>\n",
              "      <td id=\"T_ee34a_row0_col0\" class=\"data row0 col0\" >Random Forest</td>\n",
              "      <td id=\"T_ee34a_row0_col1\" class=\"data row0 col1\" >0.926123</td>\n",
              "      <td id=\"T_ee34a_row0_col2\" class=\"data row0 col2\" >0.762207</td>\n",
              "      <td id=\"T_ee34a_row0_col3\" class=\"data row0 col3\" >0.845841</td>\n",
              "      <td id=\"T_ee34a_row0_col4\" class=\"data row0 col4\" >0.793594</td>\n",
              "    </tr>\n",
              "    <tr>\n",
              "      <th id=\"T_ee34a_level0_row1\" class=\"row_heading level0 row1\" >1</th>\n",
              "      <td id=\"T_ee34a_row1_col0\" class=\"data row1 col0\" >Decision Tree</td>\n",
              "      <td id=\"T_ee34a_row1_col1\" class=\"data row1 col1\" >0.884835</td>\n",
              "      <td id=\"T_ee34a_row1_col2\" class=\"data row1 col2\" >0.799805</td>\n",
              "      <td id=\"T_ee34a_row1_col3\" class=\"data row1 col3\" >0.786933</td>\n",
              "      <td id=\"T_ee34a_row1_col4\" class=\"data row1 col4\" >0.794606</td>\n",
              "    </tr>\n",
              "    <tr>\n",
              "      <th id=\"T_ee34a_level0_row2\" class=\"row_heading level0 row2\" >2</th>\n",
              "      <td id=\"T_ee34a_row2_col0\" class=\"data row2 col0\" >XGBoost</td>\n",
              "      <td id=\"T_ee34a_row2_col1\" class=\"data row2 col1\" >0.928720</td>\n",
              "      <td id=\"T_ee34a_row2_col2\" class=\"data row2 col2\" >0.786133</td>\n",
              "      <td id=\"T_ee34a_row2_col3\" class=\"data row2 col3\" >0.854338</td>\n",
              "      <td id=\"T_ee34a_row2_col4\" class=\"data row2 col4\" >0.812065</td>\n",
              "    </tr>\n",
              "    <tr>\n",
              "      <th id=\"T_ee34a_level0_row3\" class=\"row_heading level0 row3\" >3</th>\n",
              "      <td id=\"T_ee34a_row3_col0\" class=\"data row3 col0\" >LightGBM</td>\n",
              "      <td id=\"T_ee34a_row3_col1\" class=\"data row3 col1\" >0.929239</td>\n",
              "      <td id=\"T_ee34a_row3_col2\" class=\"data row3 col2\" >0.771973</td>\n",
              "      <td id=\"T_ee34a_row3_col3\" class=\"data row3 col3\" >0.852981</td>\n",
              "      <td id=\"T_ee34a_row3_col4\" class=\"data row3 col4\" >0.802457</td>\n",
              "    </tr>\n",
              "  </tbody>\n",
              "</table>\n"
            ],
            "text/plain": [
              "<pandas.io.formats.style.Styler at 0x7f4cc6360dc0>"
            ]
          },
          "execution_count": 16,
          "metadata": {},
          "output_type": "execute_result"
        }
      ],
      "source": [
        "#Higlight the best performers\n",
        "styled_smote_df = results_smote_df.style.highlight_max(axis=0, color='yellow', subset=['Accuracy', 'Recall', 'F1 Score', 'F2 Score'])\n",
        "# Display the results DataFrame\n",
        "print(\"\\nResults:\")\n",
        "styled_smote_df"
      ]
    },
    {
      "cell_type": "code",
      "execution_count": null,
      "metadata": {
        "id": "RUMwfsw5r8CE"
      },
      "outputs": [],
      "source": []
    },
    {
      "cell_type": "markdown",
      "metadata": {
        "id": "cxgBsnZxnIz4"
      },
      "source": [
        "# RUSBoostClassifier"
      ]
    },
    {
      "cell_type": "code",
      "execution_count": 55,
      "metadata": {
        "id": "8kv4uuIHgzAr"
      },
      "outputs": [],
      "source": [
        "# Split the data into training and testing sets\n",
        "X_train_rboost, X_test_rboost, y_train_rboost, y_test_rboost = train_test_split(X, y, test_size=0.3, random_state=42)\n",
        "\n",
        "# Create a base decision tree classifier (you can use any classifier)\n",
        "base_classifier = DecisionTreeClassifier()\n",
        "\n",
        "# Create the RUSBoostClassifier\n",
        "rusboost_classifier = RUSBoostClassifier(base_classifier, random_state=42)"
      ]
    },
    {
      "cell_type": "code",
      "execution_count": 56,
      "metadata": {
        "colab": {
          "base_uri": "https://localhost:8080/"
        },
        "id": "14oCJPA9gy98",
        "outputId": "f1802e8b-62fe-4941-a006-c5fa2154b59c"
      },
      "outputs": [
        {
          "output_type": "stream",
          "name": "stdout",
          "text": [
            "Accuracy: 0.8978210281362387\n",
            "Recall : 0.7974874371859296\n",
            "F1 Score : 0.7666666666666667\n",
            "F2 Score : 0.7848664688427299\n",
            "\n",
            "Confusion Matrix:\n",
            "[[6901  563]\n",
            " [ 403 1587]]\n"
          ]
        }
      ],
      "source": [
        "# Train the model\n",
        "rusboost_classifier.fit(X_train_rboost, y_train_rboost)\n",
        "\n",
        "# Make predictions on the test set\n",
        "y_pred_rboost = rusboost_classifier.predict(X_test_rboost)\n",
        "\n",
        "# Evaluate the model\n",
        "accuracy_rboost = accuracy_score(y_test_rboost, y_pred_rboost)\n",
        "recall_rboost = recall_score(y_test_rboost, y_pred_rboost)\n",
        "f1_rboost = f1_score(y_test_rboost, y_pred_rboost)\n",
        "f2_rboost = fbeta_score(y_test_rboost, y_pred_rboost, beta=2)\n",
        "conf_matrix_boost = confusion_matrix(y_test_rboost, y_pred_rboost)\n",
        "\n",
        "print(f'Accuracy: {accuracy_rboost}')\n",
        "print(f'Recall : {recall_rboost}')\n",
        "print(f'F1 Score : {f1_rboost}')\n",
        "print(f'F2 Score : {f2_rboost}\\n')\n",
        "print(f'Confusion Matrix:\\n{conf_matrix_boost}')"
      ]
    },
    {
      "cell_type": "markdown",
      "metadata": {
        "id": "NAssv9pWptmj"
      },
      "source": [
        "# **HyperParameter Tuning**"
      ]
    },
    {
      "cell_type": "markdown",
      "metadata": {
        "id": "GD0DtmPppwJC"
      },
      "source": [
        "We take the best overall performing algorythms and resampling method and use a randomiser to find the best parameters for the model"
      ]
    },
    {
      "cell_type": "markdown",
      "metadata": {
        "id": "J76b2p1IHoMx"
      },
      "source": [
        "# RandomSearch for SMOTEK and XGBOOST"
      ]
    },
    {
      "cell_type": "code",
      "execution_count": null,
      "metadata": {
        "id": "An0ugQhiqoid"
      },
      "outputs": [],
      "source": [
        "#Setting SMOTETomek\n",
        "smt = SMOTETomek(random_state=42)\n",
        "\n",
        "#Applying smotetomek to training set\n",
        "X_smote_tek, y_smote_tek = smt.fit_resample(X, y)\n",
        "\n",
        "# Split the data into training and testing sets\n",
        "X_train_tek, X_test_tek, y_train_tek, y_test_tek = train_test_split(X_smote_tek, y_smote_tek, test_size=0.3, random_state=42)"
      ]
    },
    {
      "cell_type": "code",
      "execution_count": null,
      "metadata": {
        "colab": {
          "base_uri": "https://localhost:8080/",
          "height": 911
        },
        "id": "wLbH7s6OCobd",
        "outputId": "05d3c9e9-9591-43e4-c5b2-7fe662c84960"
      },
      "outputs": [
        {
          "name": "stdout",
          "output_type": "stream",
          "text": [
            "Accuracy: 0.9583304870551267\n",
            "Recall : 0.9314449917898193\n",
            "F1 Score : 0.9571147356580426\n",
            "F2 Score : 0.9415458669912582\n",
            "\n",
            "Confusion Matrix:\n",
            "[[7222  109]\n",
            " [ 501 6807]]\n",
            "Classification Report:\n",
            "              precision    recall  f1-score   support\n",
            "\n",
            "           0       0.94      0.99      0.96      7331\n",
            "           1       0.98      0.93      0.96      7308\n",
            "\n",
            "    accuracy                           0.96     14639\n",
            "   macro avg       0.96      0.96      0.96     14639\n",
            "weighted avg       0.96      0.96      0.96     14639\n",
            "\n",
            "ROC AUC Score: 0.9880632641957955\n",
            "\n"
          ]
        },
        {
          "data": {
            "image/png": "[encoded data removed]",
            "text/plain": [
              "<Figure size 800x600 with 1 Axes>"
            ]
          },
          "metadata": {},
          "output_type": "display_data"
        }
      ],
      "source": [
        "# Define the hyperparameter grid for RandomizedSearchCV\n",
        "param_grid = {\n",
        "    'learning_rate': [0.01, 0.05, 0.1, 0.2, 0.3],\n",
        "    'n_estimators': [50, 100, 200, 400, 500],\n",
        "    'max_depth': [3, 5, 7, 9, 11],\n",
        "    'min_child_weight': [1, 2, 3, 4, 5],\n",
        "    'subsample': [0.7, 0.8, 0.9, 1.0],\n",
        "    'colsample_bytree': [0.7, 0.8, 0.9, 1.0],\n",
        "    'gamma': [0, 0.5, 1, 1.5, 2],\n",
        "    'reg_alpha': [0, 0.1, 0.5, 1, 10],\n",
        "    'reg_lambda': [0, 0.1, 0.5, 1, 10]\n",
        "}\n",
        "\n",
        "# Create an XGBoost classifier\n",
        "xgb_classifier = XGBClassifier()\n",
        "\n",
        "# Create RandomizedSearchCV object\n",
        "random_search = RandomizedSearchCV(xgb_classifier, param_distributions=param_grid,\n",
        "                                   n_iter=10, scoring='recall', cv=3, random_state=42)\n",
        "\n",
        "# Fit the model with hyperparameter tuning\n",
        "random_search.fit(X_train_tek, y_train_tek)\n",
        "\n",
        "# Get the best model\n",
        "best_xgb = random_search.best_estimator_\n",
        "\n",
        "# Make predictions on the test set\n",
        "y_pred_tek = best_xgb.predict(X_test_tek)\n",
        "\n",
        "# Evaluate the model\n",
        "accuracy_rboost = accuracy_score(y_test_tek, y_pred_tek)\n",
        "recall_rboost = recall_score(y_test_tek, y_pred_tek)\n",
        "f1_rboost = f1_score(y_test_tek, y_pred_tek)\n",
        "f2_rboost = fbeta_score(y_test_tek, y_pred_tek, beta=2)\n",
        "conf_matrix_boost = confusion_matrix(y_test_tek, y_pred_tek)\n",
        "\n",
        "print(f'Accuracy: {accuracy_rboost}')\n",
        "print(f'Recall : {recall_rboost}')\n",
        "print(f'F1 Score : {f1_rboost}')\n",
        "print(f'F2 Score : {f2_rboost}\\n')\n",
        "print(f'Confusion Matrix:\\n{conf_matrix_boost}')\n",
        "\n",
        "# Print classification report\n",
        "print(\"Classification Report:\")\n",
        "print(classification_report(y_test_tek, y_pred_tek))\n",
        "\n",
        "# Get predicted probabilities for positive class\n",
        "y_prob_tek = best_xgb.predict_proba(X_test_tek)[:, 1]\n",
        "\n",
        "# Calculate ROC AUC score\n",
        "roc_auc_xgb = roc_auc_score(y_test_tek, y_prob_tek)\n",
        "print(f'ROC AUC Score: {roc_auc_xgb}\\n')\n",
        "\n",
        "# Plot ROC curve\n",
        "fpr_xgb, tpr_xgb, _ = roc_curve(y_test_tek, y_prob_tek)\n",
        "plt.figure(figsize=(8, 6))\n",
        "plt.plot(fpr_xgb, tpr_xgb, label=f'XGBoost (AUC = {roc_auc_xgb:.2f})')\n",
        "plt.plot([0, 1], [0, 1], '--', color='gray', label='Random')\n",
        "plt.xlabel('False Positive Rate')\n",
        "plt.ylabel('True Positive Rate')\n",
        "plt.title('ROC Curve for XGBoost')\n",
        "plt.legend()\n",
        "plt.show()"
      ]
    },
    {
      "cell_type": "code",
      "execution_count": null,
      "metadata": {
        "colab": {
          "base_uri": "https://localhost:8080/",
          "height": 894
        },
        "id": "76IMRybf0hP3",
        "outputId": "2480a520-cc91-42c3-998c-46c3d0ac950a"
      },
      "outputs": [
        {
          "name": "stdout",
          "output_type": "stream",
          "text": [
            "Accuracy: 0.966902823305488\n",
            "Recall : 0.8671604938271605\n",
            "F1 Score : 0.9181699346405229\n",
            "F2 Score : 0.8868686868686868\n",
            "\n",
            "Confusion Matrix:\n",
            "[[7388   44]\n",
            " [ 269 1756]]\n",
            "              precision    recall  f1-score   support\n",
            "\n",
            "           0       0.96      0.99      0.98      7432\n",
            "           1       0.98      0.87      0.92      2025\n",
            "\n",
            "    accuracy                           0.97      9457\n",
            "   macro avg       0.97      0.93      0.95      9457\n",
            "weighted avg       0.97      0.97      0.97      9457\n",
            "\n",
            "ROC AUC Score: 0.98607861898497\n",
            "\n"
          ]
        },
        {
          "data": {
            "image/png": "[encoded data removed]",
            "text/plain": [
              "<Figure size 800x600 with 1 Axes>"
            ]
          },
          "metadata": {},
          "output_type": "display_data"
        }
      ],
      "source": [
        "# Split the data into training and testing sets\n",
        "X_train, X_test, y_train, y_test = train_test_split(X, y, test_size=0.3, random_state=42)\n",
        "# Predicting values from the imbalanced X_test (i.e X_test without SMOTE)\n",
        "y_pred_test = best_xgb.predict(X_test)\n",
        "\n",
        "# Evaluate the model\n",
        "accuracy_rboost = accuracy_score(y_test, y_pred_test)\n",
        "recall_rboost = recall_score(y_test, y_pred_test)\n",
        "f1_rboost = f1_score(y_test, y_pred_test)\n",
        "f2_rboost = fbeta_score(y_test, y_pred_test, beta=2)\n",
        "conf_matrix_boost = confusion_matrix(y_test, y_pred_test)\n",
        "\n",
        "print(f'Accuracy: {accuracy_rboost}')\n",
        "print(f'Recall : {recall_rboost}')\n",
        "print(f'F1 Score : {f1_rboost}')\n",
        "print(f'F2 Score : {f2_rboost}\\n')\n",
        "print(f'Confusion Matrix:\\n{conf_matrix_boost}')\n",
        "print(classification_report(y_test, y_pred_test))\n",
        "\n",
        "# Get predicted probabilities for positive class\n",
        "y_prob = best_xgb.predict_proba(X_test)[:, 1]\n",
        "\n",
        "# Calculate ROC AUC score\n",
        "roc_auc_xgb = roc_auc_score(y_test, y_prob)\n",
        "print(f'ROC AUC Score: {roc_auc_xgb}\\n')\n",
        "\n",
        "# Plot ROC curve\n",
        "fpr_xgb, tpr_xgb, _ = roc_curve(y_test, y_prob)\n",
        "plt.figure(figsize=(8, 6))\n",
        "plt.plot(fpr_xgb, tpr_xgb, label=f'XGBoost (AUC = {roc_auc_xgb:.2f})')\n",
        "plt.plot([0, 1], [0, 1], '--', color='gray', label='Random')\n",
        "plt.xlabel('False Positive Rate')\n",
        "plt.ylabel('True Positive Rate')\n",
        "plt.title('ROC Curve for XGBoost')\n",
        "plt.legend()\n",
        "plt.show()"
      ]
    },
    {
      "cell_type": "code",
      "execution_count": null,
      "metadata": {
        "colab": {
          "base_uri": "https://localhost:8080/"
        },
        "id": "T-2npIGXC7qe",
        "outputId": "cc21578e-d6a8-4859-bd3c-e5bf25be0401"
      },
      "outputs": [
        {
          "data": {
            "text/plain": [
              "{'subsample': 0.7,\n",
              " 'reg_lambda': 0.5,\n",
              " 'reg_alpha': 1,\n",
              " 'n_estimators': 200,\n",
              " 'min_child_weight': 1,\n",
              " 'max_depth': 11,\n",
              " 'learning_rate': 0.2,\n",
              " 'gamma': 0.5,\n",
              " 'colsample_bytree': 0.7}"
            ]
          },
          "execution_count": 49,
          "metadata": {},
          "output_type": "execute_result"
        }
      ],
      "source": [
        "random_search.best_params_"
      ]
    },
    {
      "cell_type": "code",
      "execution_count": null,
      "metadata": {
        "colab": {
          "base_uri": "https://localhost:8080/",
          "height": 248
        },
        "id": "SwdTLSn-BYcq",
        "outputId": "cfda4ac1-c6a5-4fca-d4ff-38c30ef95eec"
      },
      "outputs": [
        {
          "data": {
            "text/html": [
              "<style>#sk-container-id-1 {color: black;background-color: white;}#sk-container-id-1 pre{padding: 0;}#sk-container-id-1 div.sk-toggleable {background-color: white;}#sk-container-id-1 label.sk-toggleable__label {cursor: pointer;display: block;width: 100%;margin-bottom: 0;padding: 0.3em;box-sizing: border-box;text-align: center;}#sk-container-id-1 label.sk-toggleable__label-arrow:before {content: \"▸\";float: left;margin-right: 0.25em;color: #696969;}#sk-container-id-1 label.sk-toggleable__label-arrow:hover:before {color: black;}#sk-container-id-1 div.sk-estimator:hover label.sk-toggleable__label-arrow:before {color: black;}#sk-container-id-1 div.sk-toggleable__content {max-height: 0;max-width: 0;overflow: hidden;text-align: left;background-color: #f0f8ff;}#sk-container-id-1 div.sk-toggleable__content pre {margin: 0.2em;color: black;border-radius: 0.25em;background-color: #f0f8ff;}#sk-container-id-1 input.sk-toggleable__control:checked~div.sk-toggleable__content {max-height: 200px;max-width: 100%;overflow: auto;}#sk-container-id-1 input.sk-toggleable__control:checked~label.sk-toggleable__label-arrow:before {content: \"▾\";}#sk-container-id-1 div.sk-estimator input.sk-toggleable__control:checked~label.sk-toggleable__label {background-color: #d4ebff;}#sk-container-id-1 div.sk-label input.sk-toggleable__control:checked~label.sk-toggleable__label {background-color: #d4ebff;}#sk-container-id-1 input.sk-hidden--visually {border: 0;clip: rect(1px 1px 1px 1px);clip: rect(1px, 1px, 1px, 1px);height: 1px;margin: -1px;overflow: hidden;padding: 0;position: absolute;width: 1px;}#sk-container-id-1 div.sk-estimator {font-family: monospace;background-color: #f0f8ff;border: 1px dotted black;border-radius: 0.25em;box-sizing: border-box;margin-bottom: 0.5em;}#sk-container-id-1 div.sk-estimator:hover {background-color: #d4ebff;}#sk-container-id-1 div.sk-parallel-item::after {content: \"\";width: 100%;border-bottom: 1px solid gray;flex-grow: 1;}#sk-container-id-1 div.sk-label:hover label.sk-toggleable__label {background-color: #d4ebff;}#sk-container-id-1 div.sk-serial::before {content: \"\";position: absolute;border-left: 1px solid gray;box-sizing: border-box;top: 0;bottom: 0;left: 50%;z-index: 0;}#sk-container-id-1 div.sk-serial {display: flex;flex-direction: column;align-items: center;background-color: white;padding-right: 0.2em;padding-left: 0.2em;position: relative;}#sk-container-id-1 div.sk-item {position: relative;z-index: 1;}#sk-container-id-1 div.sk-parallel {display: flex;align-items: stretch;justify-content: center;background-color: white;position: relative;}#sk-container-id-1 div.sk-item::before, #sk-container-id-1 div.sk-parallel-item::before {content: \"\";position: absolute;border-left: 1px solid gray;box-sizing: border-box;top: 0;bottom: 0;left: 50%;z-index: -1;}#sk-container-id-1 div.sk-parallel-item {display: flex;flex-direction: column;z-index: 1;position: relative;background-color: white;}#sk-container-id-1 div.sk-parallel-item:first-child::after {align-self: flex-end;width: 50%;}#sk-container-id-1 div.sk-parallel-item:last-child::after {align-self: flex-start;width: 50%;}#sk-container-id-1 div.sk-parallel-item:only-child::after {width: 0;}#sk-container-id-1 div.sk-dashed-wrapped {border: 1px dashed gray;margin: 0 0.4em 0.5em 0.4em;box-sizing: border-box;padding-bottom: 0.4em;background-color: white;}#sk-container-id-1 div.sk-label label {font-family: monospace;font-weight: bold;display: inline-block;line-height: 1.2em;}#sk-container-id-1 div.sk-label-container {text-align: center;}#sk-container-id-1 div.sk-container {/* jupyter's `normalize.less` sets `[hidden] { display: none; }` but bootstrap.min.css set `[hidden] { display: none !important; }` so we also need the `!important` here to be able to override the default hidden behavior on the sphinx rendered scikit-learn.org. See: https://github.com/scikit-learn/scikit-learn/issues/21755 */display: inline-block !important;position: relative;}#sk-container-id-1 div.sk-text-repr-fallback {display: none;}</style><div id=\"sk-container-id-1\" class=\"sk-top-container\"><div class=\"sk-text-repr-fallback\"><pre>XGBClassifier(base_score=None, booster=None, callbacks=None,\n",
              "              colsample_bylevel=None, colsample_bynode=None,\n",
              "              colsample_bytree=0.7, device=None, early_stopping_rounds=None,\n",
              "              enable_categorical=False, eval_metric=None, feature_types=None,\n",
              "              gamma=0.5, grow_policy=None, importance_type=None,\n",
              "              interaction_constraints=None, learning_rate=0.2, max_bin=None,\n",
              "              max_cat_threshold=None, max_cat_to_onehot=None,\n",
              "              max_delta_step=None, max_depth=11, max_leaves=None,\n",
              "              min_child_weight=1, missing=nan, monotone_constraints=None,\n",
              "              multi_strategy=None, n_estimators=200, n_jobs=None,\n",
              "              num_parallel_tree=None, random_state=None, ...)</pre><b>In a Jupyter environment, please rerun this cell to show the HTML representation or trust the notebook. <br />On GitHub, the HTML representation is unable to render, please try loading this page with nbviewer.org.</b></div><div class=\"sk-container\" hidden><div class=\"sk-item\"><div class=\"sk-estimator sk-toggleable\"><input class=\"sk-toggleable__control sk-hidden--visually\" id=\"sk-estimator-id-1\" type=\"checkbox\" checked><label for=\"sk-estimator-id-1\" class=\"sk-toggleable__label sk-toggleable__label-arrow\">XGBClassifier</label><div class=\"sk-toggleable__content\"><pre>XGBClassifier(base_score=None, booster=None, callbacks=None,\n",
              "              colsample_bylevel=None, colsample_bynode=None,\n",
              "              colsample_bytree=0.7, device=None, early_stopping_rounds=None,\n",
              "              enable_categorical=False, eval_metric=None, feature_types=None,\n",
              "              gamma=0.5, grow_policy=None, importance_type=None,\n",
              "              interaction_constraints=None, learning_rate=0.2, max_bin=None,\n",
              "              max_cat_threshold=None, max_cat_to_onehot=None,\n",
              "              max_delta_step=None, max_depth=11, max_leaves=None,\n",
              "              min_child_weight=1, missing=nan, monotone_constraints=None,\n",
              "              multi_strategy=None, n_estimators=200, n_jobs=None,\n",
              "              num_parallel_tree=None, random_state=None, ...)</pre></div></div></div></div></div>"
            ],
            "text/plain": [
              "XGBClassifier(base_score=None, booster=None, callbacks=None,\n",
              "              colsample_bylevel=None, colsample_bynode=None,\n",
              "              colsample_bytree=0.7, device=None, early_stopping_rounds=None,\n",
              "              enable_categorical=False, eval_metric=None, feature_types=None,\n",
              "              gamma=0.5, grow_policy=None, importance_type=None,\n",
              "              interaction_constraints=None, learning_rate=0.2, max_bin=None,\n",
              "              max_cat_threshold=None, max_cat_to_onehot=None,\n",
              "              max_delta_step=None, max_depth=11, max_leaves=None,\n",
              "              min_child_weight=1, missing=nan, monotone_constraints=None,\n",
              "              multi_strategy=None, n_estimators=200, n_jobs=None,\n",
              "              num_parallel_tree=None, random_state=None, ...)"
            ]
          },
          "execution_count": 50,
          "metadata": {},
          "output_type": "execute_result"
        }
      ],
      "source": [
        "random_search.best_estimator_"
      ]
    },
    {
      "cell_type": "markdown",
      "metadata": {
        "id": "dTbPEgyA4gnA"
      },
      "source": [
        "# RandomSearch for SMOTEEN and XGBOOST"
      ]
    },
    {
      "cell_type": "code",
      "execution_count": null,
      "metadata": {
        "id": "Ehu8xSze4h9w"
      },
      "outputs": [],
      "source": [
        "#Setting ADASYN\n",
        "smenn = SMOTEENN(random_state=42)\n",
        "\n",
        "#Applying smote to training set\n",
        "X_smenn, y_smenn = smenn.fit_resample(X, y)\n",
        "\n",
        "# Split the data into training and testing sets\n",
        "X_train_smenn, X_test_smenn, y_train_smenn, y_test_smenn = train_test_split(X_smenn, y_smenn, test_size=0.3, random_state=42)"
      ]
    },
    {
      "cell_type": "code",
      "execution_count": null,
      "metadata": {
        "colab": {
          "base_uri": "https://localhost:8080/"
        },
        "id": "OYgia-tZ4hyH",
        "outputId": "417901e5-183e-421e-934d-cc6d1f34b176"
      },
      "outputs": [
        {
          "name": "stdout",
          "output_type": "stream",
          "text": [
            "Accuracy: 0.9724677948977014\n",
            "Recall : 0.9629459500842138\n",
            "F1 Score : 0.9746609841146844\n",
            "F2 Score : 0.9675980060311404\n",
            "\n",
            "Confusion Matrix:\n",
            "[[5261   85]\n",
            " [ 242 6289]]\n",
            "Classification Report:\n",
            "              precision    recall  f1-score   support\n",
            "\n",
            "           0       0.96      0.98      0.97      5346\n",
            "           1       0.99      0.96      0.97      6531\n",
            "\n",
            "    accuracy                           0.97     11877\n",
            "   macro avg       0.97      0.97      0.97     11877\n",
            "weighted avg       0.97      0.97      0.97     11877\n",
            "\n"
          ]
        }
      ],
      "source": [
        "# Define the hyperparameter grid for RandomizedSearchCV\n",
        "param_grid = {\n",
        "    'learning_rate': [0.01, 0.05, 0.1, 0.2, 0.3],\n",
        "    'n_estimators': [50, 100, 200, 400, 500],\n",
        "    'max_depth': [3, 5, 7, 9, 11],\n",
        "    'min_child_weight': [1, 2, 3, 4, 5],\n",
        "    'subsample': [0.7, 0.8, 0.9, 1.0],\n",
        "    'colsample_bytree': [0.7, 0.8, 0.9, 1.0],\n",
        "    'gamma': [0, 0.5, 1, 1.5, 2],\n",
        "    'reg_alpha': [0, 0.1, 0.5, 1, 10],\n",
        "    'reg_lambda': [0, 0.1, 0.5, 1, 10]\n",
        "}\n",
        "\n",
        "# Create an XGBoost classifier\n",
        "xgb_classifier = XGBClassifier()\n",
        "\n",
        "# Create RandomizedSearchCV object\n",
        "random_search = RandomizedSearchCV(xgb_classifier, param_distributions=param_grid,\n",
        "                                   n_iter=10, scoring='recall', cv=3, random_state=42)\n",
        "\n",
        "# Fit the model with hyperparameter tuning\n",
        "random_search.fit(X_train_smenn, y_train_smenn)\n",
        "\n",
        "# Get the best model\n",
        "best_xgb_2 = random_search.best_estimator_\n",
        "\n",
        "# Make predictions on the test set\n",
        "y_pred_smenn = best_xgb_2.predict(X_test_smenn)\n",
        "\n",
        "# Evaluate the model\n",
        "accuracy_smenn = accuracy_score(y_test_smenn, y_pred_smenn)\n",
        "recall_smenn = recall_score(y_test_smenn, y_pred_smenn)\n",
        "f1_smenn = f1_score(y_test_smenn, y_pred_smenn)\n",
        "f2_smenn = fbeta_score(y_test_smenn, y_pred_smenn, beta=2)\n",
        "conf_matrix_smenn = confusion_matrix(y_test_smenn, y_pred_smenn)\n",
        "\n",
        "print(f'Accuracy: {accuracy_smenn}')\n",
        "print(f'Recall : {recall_smenn}')\n",
        "print(f'F1 Score : {f1_smenn}')\n",
        "print(f'F2 Score : {f2_smenn}\\n')\n",
        "print(f'Confusion Matrix:\\n{conf_matrix_smenn}')\n",
        "\n",
        "# Print classification report\n",
        "print(\"Classification Report:\")\n",
        "print(classification_report(y_test_smenn, y_pred_smenn))"
      ]
    },
    {
      "cell_type": "code",
      "execution_count": null,
      "metadata": {
        "id": "Z_oT8f5R5IFC"
      },
      "outputs": [],
      "source": [
        "# Split the data into training and testing sets\n",
        "X_train, X_test, y_train, y_test = train_test_split(X, y, test_size=0.3, random_state=42)"
      ]
    },
    {
      "cell_type": "code",
      "execution_count": null,
      "metadata": {
        "colab": {
          "base_uri": "https://localhost:8080/"
        },
        "id": "KeHbJiCX5KPo",
        "outputId": "fbab0817-b3ca-4dd2-a663-ad18d1b5e0ac"
      },
      "outputs": [
        {
          "name": "stdout",
          "output_type": "stream",
          "text": [
            "Accuracy: 0.9246061118748017\n",
            "Recall : 0.8296296296296296\n",
            "F1 Score : 0.824944758163516\n",
            "F2 Score : 0.8277493102089081\n",
            "\n",
            "Confusion Matrix:\n",
            "[[7064  368]\n",
            " [ 345 1680]]\n",
            "              precision    recall  f1-score   support\n",
            "\n",
            "           0       0.95      0.95      0.95      7432\n",
            "           1       0.82      0.83      0.82      2025\n",
            "\n",
            "    accuracy                           0.92      9457\n",
            "   macro avg       0.89      0.89      0.89      9457\n",
            "weighted avg       0.92      0.92      0.92      9457\n",
            "\n"
          ]
        }
      ],
      "source": [
        "# Predicting values from the imbalanced X_test (i.e X_test without SMOTE)\n",
        "y_pred_test_2 = best_xgb_2.predict(X_test)\n",
        "# Evaluate the model\n",
        "accuracy_rboost = accuracy_score(y_test, y_pred_test_2)\n",
        "recall_rboost = recall_score(y_test, y_pred_test_2)\n",
        "f1_rboost = f1_score(y_test, y_pred_test_2)\n",
        "f2_rboost = fbeta_score(y_test, y_pred_test_2, beta=2)\n",
        "conf_matrix_boost = confusion_matrix(y_test, y_pred_test_2)\n",
        "\n",
        "print(f'Accuracy: {accuracy_rboost}')\n",
        "print(f'Recall : {recall_rboost}')\n",
        "print(f'F1 Score : {f1_rboost}')\n",
        "print(f'F2 Score : {f2_rboost}\\n')\n",
        "print(f'Confusion Matrix:\\n{conf_matrix_boost}')\n",
        "print(classification_report(y_test, y_pred_test_2))"
      ]
    },
    {
      "cell_type": "markdown",
      "metadata": {
        "id": "BI6m-7AZCeWn"
      },
      "source": [
        "#GridSearch"
      ]
    },
    {
      "cell_type": "code",
      "execution_count": null,
      "metadata": {
        "colab": {
          "base_uri": "https://localhost:8080/"
        },
        "id": "kZiiGcFaofgB",
        "outputId": "9fcb83fd-581c-449c-befe-ca53fd492974"
      },
      "outputs": [
        {
          "name": "stdout",
          "output_type": "stream",
          "text": [
            "Accuracy: 0.9511578659744518\n",
            "Recall : 0.9102353585112206\n",
            "F1 Score : 0.9489977887153149\n",
            "F2 Score : 0.9253540327741147\n",
            "\n",
            "Confusion Matrix:\n",
            "[[7272   59]\n",
            " [ 656 6652]]\n",
            "Classification Report:\n",
            "              precision    recall  f1-score   support\n",
            "\n",
            "           0       0.92      0.99      0.95      7331\n",
            "           1       0.99      0.91      0.95      7308\n",
            "\n",
            "    accuracy                           0.95     14639\n",
            "   macro avg       0.95      0.95      0.95     14639\n",
            "weighted avg       0.95      0.95      0.95     14639\n",
            "\n"
          ]
        }
      ],
      "source": [
        "# Define the hyperparameter grid for GridSearchCV\n",
        "param_grid = {\n",
        "    'learning_rate': [0.01, 0.1],\n",
        "    'n_estimators': [100, 200],\n",
        "    'max_depth': [3, 5],\n",
        "    'subsample': [0.8, 1.0],\n",
        "    'colsample_bytree': [0.8, 1.0],\n",
        "    'min_child_weight': [1, 3],\n",
        "    'gamma': [0, 1],\n",
        "    'reg_alpha': [0, 0.1],\n",
        "    'reg_lambda': [0, 0.1]\n",
        "}\n",
        "\n",
        "# Create an XGBoost classifier\n",
        "xgb_classifier = XGBClassifier()\n",
        "\n",
        "# Create GridSearchCV object\n",
        "grid_search = GridSearchCV(xgb_classifier, param_grid=param_grid,\n",
        "                           scoring='accuracy', cv=3)\n",
        "\n",
        "# Fit the model with hyperparameter tuning\n",
        "grid_search.fit(X_train_tek, y_train_tek)\n",
        "\n",
        "# Get the best model\n",
        "best_xgb = grid_search.best_estimator_\n",
        "\n",
        "# Make predictions on the test set\n",
        "y_pred_tek = best_xgb.predict(X_test_tek)\n",
        "\n",
        "# Evaluate the model\n",
        "accuracy_rboost = accuracy_score(y_test_tek, y_pred_tek)\n",
        "recall_rboost = recall_score(y_test_tek, y_pred_tek)\n",
        "f1_rboost = f1_score(y_test_tek, y_pred_tek)\n",
        "f2_rboost = fbeta_score(y_test_tek, y_pred_tek, beta=2)\n",
        "conf_matrix_boost = confusion_matrix(y_test_tek, y_pred_tek)\n",
        "\n",
        "print(f'Accuracy: {accuracy_rboost}')\n",
        "print(f'Recall : {recall_rboost}')\n",
        "print(f'F1 Score : {f1_rboost}')\n",
        "print(f'F2 Score : {f2_rboost}\\n')\n",
        "print(f'Confusion Matrix:\\n{conf_matrix_boost}')\n",
        "\n",
        "# Print classification report\n",
        "print(\"Classification Report:\")\n",
        "print(classification_report(y_test_tek, y_pred_tek))"
      ]
    },
    {
      "cell_type": "markdown",
      "metadata": {
        "id": "5EINgwts43-b"
      },
      "source": [
        "#**Indiviudal Algorithm Test**"
      ]
    },
    {
      "cell_type": "markdown",
      "metadata": {
        "id": "OBnULNXQ4lwC"
      },
      "source": [
        "# Decision Tree"
      ]
    },
    {
      "cell_type": "code",
      "execution_count": null,
      "metadata": {
        "colab": {
          "base_uri": "https://localhost:8080/"
        },
        "id": "5pivO4G_4q_f",
        "outputId": "726101b0-fa41-4b5b-aab0-0932733f9105"
      },
      "outputs": [
        {
          "name": "stdout",
          "output_type": "stream",
          "text": [
            "Accuracy : 0.8926720947446336\n",
            "Recall : 0.745679012345679\n",
            "F1 Score : 0.748451053283767\n",
            "F2 Score : 0.7467853610286844\n",
            "\n",
            "Confusion Matrix:\n",
            "[[6932  500]\n",
            " [ 515 1510]]\n"
          ]
        }
      ],
      "source": [
        "# Split the data into training and testing sets\n",
        "X_train_csdt, X_test_csdt, y_train_csdt, y_test_csdt = train_test_split(X, y, test_size=0.3, random_state=42)\n",
        "\n",
        "# define model\n",
        "csdt = DecisionTreeClassifier(\n",
        "    criterion='gini',\n",
        "    class_weight={0: 1, 1: 10}\n",
        ")\n",
        "# Train the model\n",
        "csdt.fit(X_train_csdt, y_train_csdt)\n",
        "\n",
        "# Make predictions on the test set\n",
        "y_pred_csdt = csdt.predict(X_test_csdt)\n",
        "\n",
        "# Evaluate the model\n",
        "accuracy_csdt= accuracy_score(y_test_csdt, y_pred_csdt)\n",
        "recall_csdt = recall_score(y_test_csdt, y_pred_csdt)\n",
        "f1_csdt = f1_score(y_test_csdt, y_pred_csdt)\n",
        "f2_csdt = fbeta_score(y_test_csdt, y_pred_csdt, beta=2)\n",
        "conf_matrix_boost = confusion_matrix(y_test_csdt, y_pred_csdt)\n",
        "\n",
        "print(f'Accuracy : {accuracy_csdt}')\n",
        "print(f'Recall : {recall_csdt}')\n",
        "print(f'F1 Score : {f1_csdt}')\n",
        "print(f'F2 Score : {f2_csdt}\\n')\n",
        "print(f'Confusion Matrix:\\n{conf_matrix_boost}')"
      ]
    }
  ],
  "metadata": {
    "colab": {
      "provenance": [],
      "mount_file_id": "1actX0R9AFfAqlYxkAipWESy0a9_2xv9W",
      "authorship_tag": "ABX9TyMXLaqa9h/5kpeqQd8TvXMK",
      "include_colab_link": true
    },
    "kernelspec": {
      "display_name": "Python 3",
      "name": "python3"
    },
    "language_info": {
      "name": "python"
    }
  },
  "nbformat": 4,
  "nbformat_minor": 0
}